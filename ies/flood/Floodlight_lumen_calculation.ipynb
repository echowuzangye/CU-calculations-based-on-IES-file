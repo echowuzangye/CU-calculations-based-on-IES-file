{
 "cells": [
  {
   "cell_type": "code",
   "execution_count": 64,
   "id": "572fcd04",
   "metadata": {},
   "outputs": [],
   "source": [
    "import numpy as np\n",
    "import pandas as pd\n",
    "import luxpy as lp\n",
    "np.set_printoptions(suppress=False) "
   ]
  },
  {
   "cell_type": "code",
   "execution_count": 65,
   "id": "1f6c8928",
   "metadata": {},
   "outputs": [],
   "source": [
    "ies = lp.toolboxes.iolidfiles.read_lamp_data('ies/10.ies')"
   ]
  },
  {
   "cell_type": "code",
   "execution_count": 66,
   "id": "71dd642a",
   "metadata": {},
   "outputs": [],
   "source": [
    "n_h_angles = len(ies['h_angs'])\n",
    "n_v_angles = len(ies['v_angs'])\n",
    "\n",
    "# create numpy array and insert intensity values(multiplied by candela_mult)\n",
    "cd = np.zeros((n_h_angles, n_v_angles))\n",
    "\n",
    "for i in range(n_h_angles):\n",
    "    end_angles = n_v_angles*(i+1)\n",
    "    cd[i] = ies['candela_values'][i*n_v_angles:end_angles]*ies['candela_mult']"
   ]
  },
  {
   "cell_type": "code",
   "execution_count": 68,
   "id": "8b46998d",
   "metadata": {},
   "outputs": [
    {
     "data": {
      "text/plain": [
       "array([-90. , -85. , -75. , -65. , -55. , -47.5, -42.5, -37.5, -33. ,\n",
       "       -29. , -25.5, -22.5, -19.5, -17. , -15. , -13. , -11. ,  -9. ,\n",
       "        -7. ,  -5. ,  -3. ,  -1. ,   0. ,   1. ,   3. ,   5. ,   7. ,\n",
       "         9. ,  11. ,  13. ,  15. ,  17. ,  19.5,  22.5,  25.5,  29. ,\n",
       "        33. ,  37.5,  42.5,  47.5,  55. ,  65. ,  75. ,  85. ,  90. ])"
      ]
     },
     "execution_count": 68,
     "metadata": {},
     "output_type": "execute_result"
    }
   ],
   "source": [
    "ies['h_angs']"
   ]
  },
  {
   "cell_type": "code",
   "execution_count": 69,
   "id": "1efcd392",
   "metadata": {},
   "outputs": [
    {
     "data": {
      "text/plain": [
       "array([-90. , -85. , -75. , -65. , -55. , -47.5, -42.5, -37.5, -33. ,\n",
       "       -29. , -25.5, -22.5, -19.5, -17. , -15. , -13. , -11. ,  -9. ,\n",
       "        -7. ,  -5. ,  -3. ,  -1. ,   0. ,   1. ,   3. ,   5. ,   7. ,\n",
       "         9. ,  11. ,  13. ,  15. ,  17. ,  19.5,  22.5,  25.5,  29. ,\n",
       "        33. ,  37.5,  42.5,  47.5,  55. ,  65. ,  75. ,  85. ,  90. ])"
      ]
     },
     "execution_count": 69,
     "metadata": {},
     "output_type": "execute_result"
    }
   ],
   "source": [
    "ies['v_angs']"
   ]
  },
  {
   "cell_type": "code",
   "execution_count": 71,
   "id": "5abf692e",
   "metadata": {},
   "outputs": [
    {
     "data": {
      "text/plain": [
       "array([[ 1.79,  1.79,  1.79, ...,  1.79,  1.79,  1.79],\n",
       "       [ 2.03,  2.35,  3.14, ...,  2.15,  1.82,  1.73],\n",
       "       [ 2.52,  4.76, 34.4 , ...,  6.04,  1.7 ,  1.6 ],\n",
       "       ...,\n",
       "       [ 2.1 ,  2.52, 10.61, ...,  1.09,  0.8 ,  0.72],\n",
       "       [ 1.26,  1.28,  1.5 , ...,  0.95,  0.83,  0.8 ],\n",
       "       [ 0.84,  0.84,  0.84, ...,  0.84,  0.84,  0.84]])"
      ]
     },
     "execution_count": 71,
     "metadata": {},
     "output_type": "execute_result"
    }
   ],
   "source": [
    "cd"
   ]
  },
  {
   "cell_type": "code",
   "execution_count": 72,
   "id": "0948550e",
   "metadata": {},
   "outputs": [
    {
     "data": {
      "text/plain": [
       "(45, 45)"
      ]
     },
     "execution_count": 72,
     "metadata": {},
     "output_type": "execute_result"
    }
   ],
   "source": [
    "cd.shape"
   ]
  },
  {
   "cell_type": "code",
   "execution_count": 73,
   "id": "4552e0f2",
   "metadata": {},
   "outputs": [
    {
     "data": {
      "text/plain": [
       "array([ 5. , 10. , 10. , 10. ,  7.5,  5. ,  5. ,  4.5,  4. ,  3.5,  3. ,\n",
       "        3. ,  2.5,  2. ,  2. ,  2. ,  2. ,  2. ,  2. ,  2. ,  2. ,  1. ,\n",
       "        1. ,  2. ,  2. ,  2. ,  2. ,  2. ,  2. ,  2. ,  2. ,  2.5,  3. ,\n",
       "        3. ,  3.5,  4. ,  4.5,  5. ,  5. ,  7.5, 10. , 10. , 10. ,  5. ])"
      ]
     },
     "execution_count": 73,
     "metadata": {},
     "output_type": "execute_result"
    }
   ],
   "source": [
    "v_diff = np.diff(ies['v_angs'])\n",
    "v_diff"
   ]
  },
  {
   "cell_type": "code",
   "execution_count": 74,
   "id": "19cde13c",
   "metadata": {},
   "outputs": [],
   "source": [
    "zonal_constant = np.zeros((len(ies['h_angs'])-1,len(v_diff)))\n",
    "\n",
    "for i, (a, b) in enumerate(zip(ies['h_angs'][:-1], ies['h_angs'][1:])):\n",
    "    zonal_constant[i] = [diff*np.pi/180*(np.sin(b*np.pi/180) - np.sin(a*np.pi/180)) for diff in v_diff]"
   ]
  },
  {
   "cell_type": "code",
   "execution_count": 75,
   "id": "e45147c1",
   "metadata": {},
   "outputs": [
    {
     "data": {
      "text/plain": [
       "(44, 44)"
      ]
     },
     "execution_count": 75,
     "metadata": {},
     "output_type": "execute_result"
    }
   ],
   "source": [
    "zonal_constant.shape"
   ]
  },
  {
   "cell_type": "markdown",
   "id": "a2c46647",
   "metadata": {},
   "source": [
    "average candela for each foursome of angles "
   ]
  },
  {
   "cell_type": "code",
   "execution_count": 80,
   "id": "fcb8adad",
   "metadata": {},
   "outputs": [],
   "source": [
    "average_cd = np.zeros((cd.shape[0]-1, cd.shape[1]-1))\n",
    "\n",
    "for i in range(cd.shape[0]-1):\n",
    "    average_cd[i] = [(cd[i][j] + cd[i][j+1] + cd[i+1][j] + cd[i+1][j+1])/4 for j in range(cd.shape[1]-1)]"
   ]
  },
  {
   "cell_type": "code",
   "execution_count": 81,
   "id": "e189e23a",
   "metadata": {},
   "outputs": [
    {
     "data": {
      "text/plain": [
       "array([[  1.99  ,   2.2675,   2.7975, ...,   2.15  ,   1.8875,   1.7825],\n",
       "       [  2.915 ,  11.1625,  34.61  , ...,  17.255 ,   2.9275,   1.7125],\n",
       "       [  5.1725,  31.1275, 138.4475, ...,  85.465 ,   7.64  ,   1.7425],\n",
       "       ...,\n",
       "       [  3.0925,  14.4   ,  90.52  , ...,  46.0225,   2.885 ,   0.8225],\n",
       "       [  1.79  ,   3.9775,  15.8375, ...,   7.035 ,   0.9175,   0.7875],\n",
       "       [  1.055 ,   1.115 ,   1.295 , ...,   0.9425,   0.865 ,   0.8275]])"
      ]
     },
     "execution_count": 81,
     "metadata": {},
     "output_type": "execute_result"
    }
   ],
   "source": [
    "np.set_printoptions(suppress=False) \n",
    "average_cd"
   ]
  },
  {
   "cell_type": "code",
   "execution_count": 82,
   "id": "d692f0ad",
   "metadata": {},
   "outputs": [
    {
     "data": {
      "text/plain": [
       "(44, 44)"
      ]
     },
     "execution_count": 82,
     "metadata": {},
     "output_type": "execute_result"
    }
   ],
   "source": [
    "average_cd.shape"
   ]
  },
  {
   "cell_type": "code",
   "execution_count": 83,
   "id": "2e18f700",
   "metadata": {},
   "outputs": [],
   "source": [
    "lumen_array = average_cd * zonal_constant"
   ]
  },
  {
   "cell_type": "code",
   "execution_count": 84,
   "id": "2544b21c",
   "metadata": {},
   "outputs": [
    {
     "data": {
      "text/plain": [
       "29972.57730570301"
      ]
     },
     "execution_count": 84,
     "metadata": {},
     "output_type": "execute_result"
    }
   ],
   "source": [
    "lumen_array.sum()"
   ]
  },
  {
   "cell_type": "code",
   "execution_count": null,
   "id": "17f563e3",
   "metadata": {},
   "outputs": [],
   "source": []
  }
 ],
 "metadata": {
  "kernelspec": {
   "display_name": "Python 3 (ipykernel)",
   "language": "python",
   "name": "python3"
  },
  "language_info": {
   "codemirror_mode": {
    "name": "ipython",
    "version": 3
   },
   "file_extension": ".py",
   "mimetype": "text/x-python",
   "name": "python",
   "nbconvert_exporter": "python",
   "pygments_lexer": "ipython3",
   "version": "3.9.7"
  }
 },
 "nbformat": 4,
 "nbformat_minor": 5
}
