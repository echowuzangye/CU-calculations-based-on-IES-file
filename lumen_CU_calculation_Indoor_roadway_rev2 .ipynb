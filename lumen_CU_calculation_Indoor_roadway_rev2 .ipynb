{
 "cells": [
  {
   "cell_type": "code",
   "execution_count": 73,
   "id": "593de34b",
   "metadata": {},
   "outputs": [],
   "source": [
    "import numpy as np\n",
    "import pandas as pd\n",
    "import luxpy as lp\n",
    "from scipy.interpolate import CubicSpline\n",
    "np.set_printoptions(suppress=False) "
   ]
  },
  {
   "cell_type": "markdown",
   "id": "8098e0c7",
   "metadata": {},
   "source": [
    "### 1. import IES files"
   ]
  },
  {
   "cell_type": "code",
   "execution_count": 241,
   "id": "1e1c5b40",
   "metadata": {},
   "outputs": [],
   "source": [
    "# pip install luxpy"
   ]
  },
  {
   "cell_type": "code",
   "execution_count": 242,
   "id": "d453a30f",
   "metadata": {},
   "outputs": [],
   "source": [
    "ies = lp.toolboxes.iolidfiles.read_lamp_data('ies/4.ies')"
   ]
  },
  {
   "cell_type": "code",
   "execution_count": 243,
   "id": "3f51f386",
   "metadata": {},
   "outputs": [
    {
     "data": {
      "text/plain": [
       "dict_keys(['datasource', 'name', 'version', 'lamps_num', 'lumens_per_lamp', 'candela_mult', 'v_angles_num', 'h_angles_num', 'photometric_type', 'units_type', 'width', 'length', 'height', 'ballast_factor', 'future_use', 'input_watts', 'v_angs', 'h_angs', 'lamp_cone_type', 'lamp_h_type', 'candela_values', 'candela_2d', 'v_same', 'h_same', 'intensity', 'map', 'norm_angs', 'Isym', 'theta', 'phi', 'values', 'Iv0'])"
      ]
     },
     "execution_count": 243,
     "metadata": {},
     "output_type": "execute_result"
    }
   ],
   "source": [
    "ies.keys()"
   ]
  },
  {
   "cell_type": "code",
   "execution_count": 244,
   "id": "ad9b6ad2",
   "metadata": {},
   "outputs": [
    {
     "name": "stdout",
     "output_type": "stream",
     "text": [
      " luminaire width:  -1.041667 \n",
      " luminaire length:  -1.041667 \n",
      " luminaire height:  0.114833 \n",
      " luminaire wattage:  88.7 \n",
      " candela multiplier:  0.9687\n"
     ]
    }
   ],
   "source": [
    "print(' luminaire width: ', ies['width'], '\\n', \n",
    "      'luminaire length: ', ies['length'],'\\n', \n",
    "      'luminaire height: ', ies['height'],'\\n',\n",
    "     'luminaire wattage: ', ies['input_watts'], '\\n', \n",
    "      'candela multiplier: ', ies['candela_mult'])"
   ]
  },
  {
   "cell_type": "markdown",
   "id": "67ff42c3",
   "metadata": {},
   "source": [
    "Key `candela_mult`, `v_angs`, `h_angs`, `candela_values` were used below."
   ]
  },
  {
   "cell_type": "markdown",
   "id": "50c0f8d7",
   "metadata": {},
   "source": [
    "#### There are three types of Luminiare testing methods - Indoor, Roadway and Floodlight \n",
    "\n",
    "\n",
    "#### a. This is the coordinate system when the fixture is tested as indoor / roadway luminiare"
   ]
  },
  {
   "cell_type": "markdown",
   "id": "af36ad39",
   "metadata": {},
   "source": [
    "<img src=\"img/1_0.png\" width=\"700\">"
   ]
  },
  {
   "cell_type": "markdown",
   "id": "75764192",
   "metadata": {},
   "source": [
    "#### b. This is the coordinate system when the fixture is tested as floodlight luminiare"
   ]
  },
  {
   "cell_type": "markdown",
   "id": "fe4a6c34",
   "metadata": {},
   "source": [
    "<img src=\"img/1_2.png\" width=\"450\">"
   ]
  },
  {
   "cell_type": "markdown",
   "id": "d90a2fa6",
   "metadata": {},
   "source": [
    "#### The following codes only apply to condition `a`, when the fixture is tested as indoor / roadway luminiare"
   ]
  },
  {
   "cell_type": "markdown",
   "id": "1bfa355d",
   "metadata": {},
   "source": [
    "#### 1.1 raw Intensity (candela) values"
   ]
  },
  {
   "cell_type": "code",
   "execution_count": 245,
   "id": "c8ccc1b2",
   "metadata": {},
   "outputs": [],
   "source": [
    "n_h_angles = len(ies['h_angs'])\n",
    "n_v_angles = len(ies['v_angs'])\n",
    "\n",
    "# create numpy array and insert intensity values(multiplied by candela_mult)\n",
    "cd = np.zeros((n_h_angles, n_v_angles))\n",
    "\n",
    "for i in range(n_h_angles):\n",
    "    end_angles = n_v_angles*(i+1)\n",
    "    cd[i] = ies['candela_values'][i*n_v_angles:end_angles]*ies['candela_mult']"
   ]
  },
  {
   "cell_type": "code",
   "execution_count": 246,
   "id": "b69a04d7",
   "metadata": {},
   "outputs": [
    {
     "data": {
      "text/plain": [
       "(9, 73)"
      ]
     },
     "execution_count": 246,
     "metadata": {},
     "output_type": "execute_result"
    }
   ],
   "source": [
    "cd.shape"
   ]
  },
  {
   "cell_type": "markdown",
   "id": "e8ecedc9",
   "metadata": {},
   "source": [
    "#### 1.2 broadcast intensity values to full 0-360° horizontal plane"
   ]
  },
  {
   "cell_type": "markdown",
   "id": "5fe3e18e",
   "metadata": {},
   "source": [
    "* `Quadrilateral symmetric` horizontal testing angles within [0-90°]\n",
    "* `Bilateral symmetric` horizontal testing angles angles within [0-180°]\n",
    "* `Axial symmetric` horizontal testing angles angle = 0°\n",
    "* `Asymetric` A complete set of horizontal testing angles from 0-360° (may or may not include 360°)"
   ]
  },
  {
   "cell_type": "code",
   "execution_count": 247,
   "id": "976e93db",
   "metadata": {},
   "outputs": [
    {
     "data": {
      "text/plain": [
       "array([  0. ,  22.5,  45. ,  67.5,  90. , 112.5, 135. , 157.5, 180. ])"
      ]
     },
     "execution_count": 247,
     "metadata": {},
     "output_type": "execute_result"
    }
   ],
   "source": [
    "ies['h_angs']"
   ]
  },
  {
   "cell_type": "code",
   "execution_count": 248,
   "id": "34b2df16",
   "metadata": {},
   "outputs": [],
   "source": [
    "def broadcast(cd, h_angs):\n",
    "    \n",
    "    if max(h_angs)==360: # asymmetric, 360° is included\n",
    "        full_h_angs = h_angs\n",
    "        cd_0_360 = cd\n",
    "        \n",
    "    elif max(h_angs) > 180: # asymmetric, 360° not included\n",
    "        full_h_angs = np.append(h_angs,360) # add 360°\n",
    "        cd_0_360 = np.vstack((cd, cd[0])) # copy intensity data @0° to 360°\n",
    "    \n",
    "    elif max(h_angs) == 90: # quadrilateral symmetric\n",
    "        h_angs_1 = 180 - h_angs[0:-1] # angle for 90° - 180° plane\n",
    "        h_angs_2 = 180 + h_angs[1:] # angle for 0° - 180° plane\n",
    "        h_angs_3 = 360 - h_angs[0:-1] # angle for 180° - 360° plane\n",
    "        full_h_angs = np.sort(np.concatenate((h_angs, h_angs_1, h_angs_2, h_angs_3))) # full horizontal angles\n",
    "        cd_90_180 = cd[:-1][::-1]  # intensity value for 90° - 180° plane\n",
    "        cd_0_180 = np.vstack((cd, cd_90_180))  # intensity value for 0° - 180° plane\n",
    "        cd_180_360 = cd_0_180[:-1][::-1]   # intensity value for 180° - 360° plane\n",
    "        cd_0_360 = np.vstack((cd_0_180, cd_180_360))  # intensity value for 0° - 360° plane\n",
    "        \n",
    "    elif max(h_angs) == 180: # bilateral symmetric\n",
    "        h_angs_1 = 360 - h_angs[:-1]\n",
    "        full_h_angs = np.sort(np.concatenate((h_angs, h_angs_1))) # full horizontal angles\n",
    "        cd_180_360 = cd[:-1][::-1] # intensity value for 180° - 360° plane\n",
    "        cd_0_360 = np.vstack((cd, cd_180_360))  # intensity value for 0° - 360° plane\n",
    "        \n",
    "    elif max(h_angs) == 0: # axial symmetric\n",
    "        full_h_angs = np.arange(0,360+1, 22.5) # standard indoor luminaire horizontal testing intervals\n",
    "        cd_0_360 = np.repeat([cd], len(full_h_angs), axis=0) # intensity value for 0° - 360° plane\n",
    "        \n",
    "    return cd_0_360, full_h_angs\n",
    "    "
   ]
  },
  {
   "cell_type": "code",
   "execution_count": 249,
   "id": "52b17199",
   "metadata": {},
   "outputs": [],
   "source": [
    "full_cd, full_h_angs = broadcast(cd, ies['h_angs'])"
   ]
  },
  {
   "cell_type": "code",
   "execution_count": 250,
   "id": "d2d6bc43",
   "metadata": {},
   "outputs": [
    {
     "data": {
      "text/plain": [
       "array([[2540.9001, 2559.3054, 2545.7436, ...,    0.    ,    0.    ,\n",
       "           0.    ],\n",
       "       [2540.9001, 2515.7139, 2543.8062, ...,    0.    ,    0.    ,\n",
       "           0.    ],\n",
       "       [2540.9001, 2513.7765, 2542.8375, ...,    0.    ,    0.    ,\n",
       "           0.    ],\n",
       "       ...,\n",
       "       [2540.9001, 2513.7765, 2542.8375, ...,    0.    ,    0.    ,\n",
       "           0.    ],\n",
       "       [2540.9001, 2515.7139, 2543.8062, ...,    0.    ,    0.    ,\n",
       "           0.    ],\n",
       "       [2540.9001, 2559.3054, 2545.7436, ...,    0.    ,    0.    ,\n",
       "           0.    ]])"
      ]
     },
     "metadata": {},
     "output_type": "display_data"
    },
    {
     "data": {
      "text/plain": [
       "array([  0. ,  22.5,  45. ,  67.5,  90. , 112.5, 135. , 157.5, 180. ,\n",
       "       202.5, 225. , 247.5, 270. , 292.5, 315. , 337.5, 360. ])"
      ]
     },
     "metadata": {},
     "output_type": "display_data"
    }
   ],
   "source": [
    "display(full_cd, full_h_angs)"
   ]
  },
  {
   "cell_type": "markdown",
   "id": "0c49fb7b",
   "metadata": {},
   "source": [
    "-------------------------------------------------------------------------------"
   ]
  },
  {
   "cell_type": "markdown",
   "id": "fd43e869",
   "metadata": {},
   "source": [
    "#### 1.3 Interpolate intensity value if raw data is not evenly distributed, delete duplicated data at horizontal 360° "
   ]
  },
  {
   "cell_type": "code",
   "execution_count": 251,
   "id": "489c14f8",
   "metadata": {},
   "outputs": [],
   "source": [
    "def interpolate(cd, h_angs, v_angs):\n",
    "    \n",
    "    if all(np.diff(h_angs)==np.diff(h_angs)[0]): # horizontal angles have equal intervals\n",
    "        cd_inter = cd[:-1].transpose() # delete data @360°, transpose data for future use\n",
    "        h_angs_inter = h_angs\n",
    "        \n",
    "    else: # horizontal angles have unequal intervals\n",
    "        min_step = np.diff(h_angs).min() # find the minimum interval\n",
    "        cd_T = cd.transpose() # transpose data for calculation\n",
    "        \n",
    "        if np.sum(np.diff(ies['h_angs'])%min_step) == 0:\n",
    "            h_angs_inter = np.arange(0, 361, step=min_step) # create an array of angles with equal interval            \n",
    "            cd_inter = np.zeros((len(v_angs), len(h_angs_inter))) \n",
    "            for i in range(len(v_angs)):\n",
    "                cd_inter[i] = np.interp(h_angs_inter, h_angs, cd_T[i]) # linear interpolation\n",
    "                \n",
    "        else:\n",
    "            h_angs_inter = np.arange(0, 361, step=1) # create an array of angles with equal interval\n",
    "            cd_inter = np.zeros((len(v_angs), len(h_angs_inter))) \n",
    "            for i in range(len(v_angs)):\n",
    "                f = CubicSpline(h_angs, cd_T[i], bc_type='natural') # Cubic spline interpolation\n",
    "                cd_inter[i] = f(h_angs_inter)\n",
    "            \n",
    "        cd_inter = np.delete(cd_inter, -1, axis=1) # delete data @360°\n",
    "        \n",
    "    return cd_inter, h_angs_inter"
   ]
  },
  {
   "cell_type": "code",
   "execution_count": 252,
   "id": "004c819e",
   "metadata": {},
   "outputs": [],
   "source": [
    "cd_inter, h_angs_inter = interpolate(full_cd, full_h_angs, ies['v_angs'])"
   ]
  },
  {
   "cell_type": "code",
   "execution_count": 253,
   "id": "2cdb09af",
   "metadata": {},
   "outputs": [
    {
     "data": {
      "text/plain": [
       "(73, 16)"
      ]
     },
     "execution_count": 253,
     "metadata": {},
     "output_type": "execute_result"
    }
   ],
   "source": [
    "cd_inter.shape"
   ]
  },
  {
   "cell_type": "code",
   "execution_count": 254,
   "id": "63a7dce4",
   "metadata": {},
   "outputs": [
    {
     "data": {
      "text/plain": [
       "array([[2540.9001, 2540.9001, 2540.9001, ..., 2540.9001, 2540.9001,\n",
       "        2540.9001],\n",
       "       [2559.3054, 2515.7139, 2513.7765, ..., 2558.3367, 2513.7765,\n",
       "        2515.7139],\n",
       "       [2545.7436, 2543.8062, 2542.8375, ..., 2542.8375, 2542.8375,\n",
       "        2543.8062],\n",
       "       ...,\n",
       "       [   0.    ,    0.    ,    0.    , ...,    0.    ,    0.    ,\n",
       "           0.    ],\n",
       "       [   0.    ,    0.    ,    0.    , ...,    0.    ,    0.    ,\n",
       "           0.    ],\n",
       "       [   0.    ,    0.    ,    0.    , ...,    0.    ,    0.    ,\n",
       "           0.    ]])"
      ]
     },
     "execution_count": 254,
     "metadata": {},
     "output_type": "execute_result"
    }
   ],
   "source": [
    "cd_inter"
   ]
  },
  {
   "cell_type": "markdown",
   "id": "d7578224",
   "metadata": {},
   "source": [
    "### 2. Zonal Lumen calculation"
   ]
  },
  {
   "cell_type": "markdown",
   "id": "3dc7b2ad",
   "metadata": {},
   "source": [
    "<img src=\"img/2_1.png\" width=\"300\">"
   ]
  },
  {
   "cell_type": "markdown",
   "id": "b690bcde",
   "metadata": {},
   "source": [
    "#### Flux in a conic solid angle is given by: \n",
    "$$\n",
    "  \\Phi_N = 2\\pi I_{\\theta_N} (cos{\\theta_N} - cos{\\theta_{N+1}}  )\n",
    "$$"
   ]
  },
  {
   "cell_type": "markdown",
   "id": "731856ea",
   "metadata": {},
   "source": [
    "#### 2.1 Caculate zonal constant for each vertical angle"
   ]
  },
  {
   "cell_type": "code",
   "execution_count": 255,
   "id": "eedcbbad",
   "metadata": {},
   "outputs": [],
   "source": [
    "v_angs_1 = ies['v_angs'][:-1] \n",
    "v_angs_2 = ies['v_angs'][1:]\n",
    "c = zip(v_angs_1, v_angs_2)\n",
    "\n",
    "zonal_constant = []\n",
    "\n",
    "for a, b in c:\n",
    "    zonal_constant.append(2*np.pi*(np.cos(a*np.pi/180) - np.cos(b*np.pi/180)))"
   ]
  },
  {
   "cell_type": "markdown",
   "id": "f43a01b2",
   "metadata": {},
   "source": [
    "#### 2.2 Caculate average instensity value(cd) between two vertical angle zones"
   ]
  },
  {
   "cell_type": "code",
   "execution_count": 256,
   "id": "d95d5bc8",
   "metadata": {},
   "outputs": [],
   "source": [
    "avg_cd = [(np.mean(cd_inter[i])+np.mean(cd_inter[i+1]))/2 for i in range(len(ies['v_angs'])-1)]"
   ]
  },
  {
   "cell_type": "code",
   "execution_count": 257,
   "id": "d9023cf4",
   "metadata": {},
   "outputs": [],
   "source": [
    "# create a dataframe with vertical angles, average instensity and zonal constant data\n",
    "\n",
    "df = pd.DataFrame({'v_angle_1': ies['v_angs'][:-1],\n",
    "                   'v_angle_2': ies['v_angs'][1:],\n",
    "                   'average_insensity': avg_cd, \n",
    "                   'zonal_constant': np.array(zonal_constant)})"
   ]
  },
  {
   "cell_type": "markdown",
   "id": "973b923b",
   "metadata": {},
   "source": [
    "#### 2.3 Caculate zonal lumen for each vertical angle zone"
   ]
  },
  {
   "cell_type": "code",
   "execution_count": 258,
   "id": "0f9f058c",
   "metadata": {},
   "outputs": [],
   "source": [
    "df['zonal_lumen'] = np.round(df['average_insensity']*df['zonal_constant'],2)"
   ]
  },
  {
   "cell_type": "code",
   "execution_count": 259,
   "id": "00f2f815",
   "metadata": {},
   "outputs": [
    {
     "data": {
      "text/html": [
       "<div>\n",
       "<style scoped>\n",
       "    .dataframe tbody tr th:only-of-type {\n",
       "        vertical-align: middle;\n",
       "    }\n",
       "\n",
       "    .dataframe tbody tr th {\n",
       "        vertical-align: top;\n",
       "    }\n",
       "\n",
       "    .dataframe thead th {\n",
       "        text-align: right;\n",
       "    }\n",
       "</style>\n",
       "<table border=\"1\" class=\"dataframe\">\n",
       "  <thead>\n",
       "    <tr style=\"text-align: right;\">\n",
       "      <th></th>\n",
       "      <th>v_angle_1</th>\n",
       "      <th>v_angle_2</th>\n",
       "      <th>average_insensity</th>\n",
       "      <th>zonal_constant</th>\n",
       "      <th>zonal_lumen</th>\n",
       "    </tr>\n",
       "  </thead>\n",
       "  <tbody>\n",
       "    <tr>\n",
       "      <th>0</th>\n",
       "      <td>0.0</td>\n",
       "      <td>2.5</td>\n",
       "      <td>2533.332131</td>\n",
       "      <td>0.005980</td>\n",
       "      <td>15.15</td>\n",
       "    </tr>\n",
       "    <tr>\n",
       "      <th>1</th>\n",
       "      <td>2.5</td>\n",
       "      <td>5.0</td>\n",
       "      <td>2532.030441</td>\n",
       "      <td>0.017929</td>\n",
       "      <td>45.40</td>\n",
       "    </tr>\n",
       "    <tr>\n",
       "      <th>2</th>\n",
       "      <td>5.0</td>\n",
       "      <td>7.5</td>\n",
       "      <td>2524.795463</td>\n",
       "      <td>0.029844</td>\n",
       "      <td>75.35</td>\n",
       "    </tr>\n",
       "    <tr>\n",
       "      <th>3</th>\n",
       "      <td>7.5</td>\n",
       "      <td>10.0</td>\n",
       "      <td>2482.142391</td>\n",
       "      <td>0.041702</td>\n",
       "      <td>103.51</td>\n",
       "    </tr>\n",
       "    <tr>\n",
       "      <th>4</th>\n",
       "      <td>10.0</td>\n",
       "      <td>12.5</td>\n",
       "      <td>2435.584247</td>\n",
       "      <td>0.053481</td>\n",
       "      <td>130.26</td>\n",
       "    </tr>\n",
       "    <tr>\n",
       "      <th>...</th>\n",
       "      <td>...</td>\n",
       "      <td>...</td>\n",
       "      <td>...</td>\n",
       "      <td>...</td>\n",
       "      <td>...</td>\n",
       "    </tr>\n",
       "    <tr>\n",
       "      <th>67</th>\n",
       "      <td>167.5</td>\n",
       "      <td>170.0</td>\n",
       "      <td>0.000000</td>\n",
       "      <td>0.053481</td>\n",
       "      <td>0.00</td>\n",
       "    </tr>\n",
       "    <tr>\n",
       "      <th>68</th>\n",
       "      <td>170.0</td>\n",
       "      <td>172.5</td>\n",
       "      <td>0.000000</td>\n",
       "      <td>0.041702</td>\n",
       "      <td>0.00</td>\n",
       "    </tr>\n",
       "    <tr>\n",
       "      <th>69</th>\n",
       "      <td>172.5</td>\n",
       "      <td>175.0</td>\n",
       "      <td>0.000000</td>\n",
       "      <td>0.029844</td>\n",
       "      <td>0.00</td>\n",
       "    </tr>\n",
       "    <tr>\n",
       "      <th>70</th>\n",
       "      <td>175.0</td>\n",
       "      <td>177.5</td>\n",
       "      <td>0.000000</td>\n",
       "      <td>0.017929</td>\n",
       "      <td>0.00</td>\n",
       "    </tr>\n",
       "    <tr>\n",
       "      <th>71</th>\n",
       "      <td>177.5</td>\n",
       "      <td>180.0</td>\n",
       "      <td>0.000000</td>\n",
       "      <td>0.005980</td>\n",
       "      <td>0.00</td>\n",
       "    </tr>\n",
       "  </tbody>\n",
       "</table>\n",
       "<p>72 rows × 5 columns</p>\n",
       "</div>"
      ],
      "text/plain": [
       "    v_angle_1  v_angle_2  average_insensity  zonal_constant  zonal_lumen\n",
       "0         0.0        2.5        2533.332131        0.005980        15.15\n",
       "1         2.5        5.0        2532.030441        0.017929        45.40\n",
       "2         5.0        7.5        2524.795463        0.029844        75.35\n",
       "3         7.5       10.0        2482.142391        0.041702       103.51\n",
       "4        10.0       12.5        2435.584247        0.053481       130.26\n",
       "..        ...        ...                ...             ...          ...\n",
       "67      167.5      170.0           0.000000        0.053481         0.00\n",
       "68      170.0      172.5           0.000000        0.041702         0.00\n",
       "69      172.5      175.0           0.000000        0.029844         0.00\n",
       "70      175.0      177.5           0.000000        0.017929         0.00\n",
       "71      177.5      180.0           0.000000        0.005980         0.00\n",
       "\n",
       "[72 rows x 5 columns]"
      ]
     },
     "execution_count": 259,
     "metadata": {},
     "output_type": "execute_result"
    }
   ],
   "source": [
    "df"
   ]
  },
  {
   "cell_type": "markdown",
   "id": "10d6b703",
   "metadata": {},
   "source": [
    "#### 2.4 convert zonal lumen to standard 18 zones (10° interval)"
   ]
  },
  {
   "cell_type": "code",
   "execution_count": 260,
   "id": "37b38e47",
   "metadata": {},
   "outputs": [],
   "source": [
    "label = ['0-10', '10-20', '20-30', '30-40', '40-50', '50-60', '60-70', '70-80', '80-90', '90-100', '100-110', '110-120', '120-130','130-140', '140-150', '150-160', '160-170', '170-180' ]\n",
    "df['bin'] = pd.cut(df['v_angle_2'], bins=np.arange(0,181,10), labels=label)\n"
   ]
  },
  {
   "cell_type": "code",
   "execution_count": 261,
   "id": "5a5e0d70",
   "metadata": {},
   "outputs": [
    {
     "name": "stderr",
     "output_type": "stream",
     "text": [
      "C:\\Users\\guym\\AppData\\Local\\Temp/ipykernel_1376/2851976775.py:1: FutureWarning: The default of observed=False is deprecated and will be changed to True in a future version of pandas. Pass observed=False to retain current behavior or observed=True to adopt the future default and silence this warning.\n",
      "  zl = pd.DataFrame({'zonal_lumen': df.groupby('bin').sum()['zonal_lumen'].round(2),\n"
     ]
    }
   ],
   "source": [
    "zl = pd.DataFrame({'zonal_lumen': df.groupby('bin').sum()['zonal_lumen'].round(2),\n",
    "                  'zone_number': np.arange(1,19,1)})"
   ]
  },
  {
   "cell_type": "code",
   "execution_count": 262,
   "id": "f5853e98",
   "metadata": {},
   "outputs": [
    {
     "data": {
      "text/html": [
       "<div>\n",
       "<style scoped>\n",
       "    .dataframe tbody tr th:only-of-type {\n",
       "        vertical-align: middle;\n",
       "    }\n",
       "\n",
       "    .dataframe tbody tr th {\n",
       "        vertical-align: top;\n",
       "    }\n",
       "\n",
       "    .dataframe thead th {\n",
       "        text-align: right;\n",
       "    }\n",
       "</style>\n",
       "<table border=\"1\" class=\"dataframe\">\n",
       "  <thead>\n",
       "    <tr style=\"text-align: right;\">\n",
       "      <th></th>\n",
       "      <th>zonal_lumen</th>\n",
       "      <th>zone_number</th>\n",
       "    </tr>\n",
       "    <tr>\n",
       "      <th>bin</th>\n",
       "      <th></th>\n",
       "      <th></th>\n",
       "    </tr>\n",
       "  </thead>\n",
       "  <tbody>\n",
       "    <tr>\n",
       "      <th>0-10</th>\n",
       "      <td>239.41</td>\n",
       "      <td>1</td>\n",
       "    </tr>\n",
       "    <tr>\n",
       "      <th>10-20</th>\n",
       "      <td>664.74</td>\n",
       "      <td>2</td>\n",
       "    </tr>\n",
       "    <tr>\n",
       "      <th>20-30</th>\n",
       "      <td>938.53</td>\n",
       "      <td>3</td>\n",
       "    </tr>\n",
       "    <tr>\n",
       "      <th>30-40</th>\n",
       "      <td>1024.22</td>\n",
       "      <td>4</td>\n",
       "    </tr>\n",
       "    <tr>\n",
       "      <th>40-50</th>\n",
       "      <td>931.54</td>\n",
       "      <td>5</td>\n",
       "    </tr>\n",
       "    <tr>\n",
       "      <th>50-60</th>\n",
       "      <td>763.54</td>\n",
       "      <td>6</td>\n",
       "    </tr>\n",
       "    <tr>\n",
       "      <th>60-70</th>\n",
       "      <td>581.73</td>\n",
       "      <td>7</td>\n",
       "    </tr>\n",
       "    <tr>\n",
       "      <th>70-80</th>\n",
       "      <td>500.29</td>\n",
       "      <td>8</td>\n",
       "    </tr>\n",
       "    <tr>\n",
       "      <th>80-90</th>\n",
       "      <td>175.30</td>\n",
       "      <td>9</td>\n",
       "    </tr>\n",
       "    <tr>\n",
       "      <th>90-100</th>\n",
       "      <td>2.48</td>\n",
       "      <td>10</td>\n",
       "    </tr>\n",
       "    <tr>\n",
       "      <th>100-110</th>\n",
       "      <td>0.00</td>\n",
       "      <td>11</td>\n",
       "    </tr>\n",
       "    <tr>\n",
       "      <th>110-120</th>\n",
       "      <td>0.00</td>\n",
       "      <td>12</td>\n",
       "    </tr>\n",
       "    <tr>\n",
       "      <th>120-130</th>\n",
       "      <td>0.00</td>\n",
       "      <td>13</td>\n",
       "    </tr>\n",
       "    <tr>\n",
       "      <th>130-140</th>\n",
       "      <td>0.00</td>\n",
       "      <td>14</td>\n",
       "    </tr>\n",
       "    <tr>\n",
       "      <th>140-150</th>\n",
       "      <td>0.00</td>\n",
       "      <td>15</td>\n",
       "    </tr>\n",
       "    <tr>\n",
       "      <th>150-160</th>\n",
       "      <td>0.00</td>\n",
       "      <td>16</td>\n",
       "    </tr>\n",
       "    <tr>\n",
       "      <th>160-170</th>\n",
       "      <td>0.00</td>\n",
       "      <td>17</td>\n",
       "    </tr>\n",
       "    <tr>\n",
       "      <th>170-180</th>\n",
       "      <td>0.00</td>\n",
       "      <td>18</td>\n",
       "    </tr>\n",
       "  </tbody>\n",
       "</table>\n",
       "</div>"
      ],
      "text/plain": [
       "         zonal_lumen  zone_number\n",
       "bin                              \n",
       "0-10          239.41            1\n",
       "10-20         664.74            2\n",
       "20-30         938.53            3\n",
       "30-40        1024.22            4\n",
       "40-50         931.54            5\n",
       "50-60         763.54            6\n",
       "60-70         581.73            7\n",
       "70-80         500.29            8\n",
       "80-90         175.30            9\n",
       "90-100          2.48           10\n",
       "100-110         0.00           11\n",
       "110-120         0.00           12\n",
       "120-130         0.00           13\n",
       "130-140         0.00           14\n",
       "140-150         0.00           15\n",
       "150-160         0.00           16\n",
       "160-170         0.00           17\n",
       "170-180         0.00           18"
      ]
     },
     "execution_count": 262,
     "metadata": {},
     "output_type": "execute_result"
    }
   ],
   "source": [
    "zl"
   ]
  },
  {
   "cell_type": "code",
   "execution_count": 263,
   "id": "45d7dda9",
   "metadata": {},
   "outputs": [],
   "source": [
    "# create a dict of zonal lumens, with zone number 1 to 9\n",
    "\n",
    "zl_dict = dict(zip(zl['zone_number'][:9], zl['zonal_lumen'][:9]))"
   ]
  },
  {
   "cell_type": "code",
   "execution_count": 264,
   "id": "e1b5f21e",
   "metadata": {},
   "outputs": [
    {
     "data": {
      "text/plain": [
       "{1: 239.41,\n",
       " 2: 664.74,\n",
       " 3: 938.53,\n",
       " 4: 1024.22,\n",
       " 5: 931.54,\n",
       " 6: 763.54,\n",
       " 7: 581.73,\n",
       " 8: 500.29,\n",
       " 9: 175.3}"
      ]
     },
     "execution_count": 264,
     "metadata": {},
     "output_type": "execute_result"
    }
   ],
   "source": [
    "zl_dict"
   ]
  },
  {
   "cell_type": "markdown",
   "id": "cd3151d5",
   "metadata": {},
   "source": [
    "### 3. Determine the additional flux functions"
   ]
  },
  {
   "cell_type": "code",
   "execution_count": 265,
   "id": "79405179",
   "metadata": {},
   "outputs": [],
   "source": [
    "# total lumens\n",
    "flux = zl['zonal_lumen'].sum()\n",
    "\n",
    "# lumen downwards, zone number 1 to 9\n",
    "flux_down = zl['zonal_lumen'][0:9].sum()\n",
    "\n",
    "# proportion of lumens in a downward direction\n",
    "percent_down = flux_down/flux\n",
    "\n",
    "# proportion of lumens in a upward direction\n",
    "percent_up = 1 - percent_down"
   ]
  },
  {
   "cell_type": "code",
   "execution_count": 266,
   "id": "f7ec23ab",
   "metadata": {},
   "outputs": [
    {
     "name": "stdout",
     "output_type": "stream",
     "text": [
      "5821.780000000001 5819.3 0.9995740134460593 0.00042598655394066043\n"
     ]
    }
   ],
   "source": [
    "print(flux, flux_down,percent_down, percent_up)"
   ]
  },
  {
   "cell_type": "markdown",
   "id": "85667170",
   "metadata": {},
   "source": [
    "### 4. Determine the direct ratio"
   ]
  },
  {
   "cell_type": "markdown",
   "id": "2a21d27c",
   "metadata": {},
   "source": [
    "* Direct Ratio ($\\begin{aligned}D_{RCR}\\end{aligned}$) is the fraction of the downward luminaire flux that reaches the work plain directly.  \n",
    "* $\\begin{aligned}K_{RCR, N}\\end{aligned}$ is called a zonal multiplier and is a function of both cavity ratio, denoted by RCR and zone N.\n",
    "* RCR is the room cavity ratio; between 1 and 10, inclusive. \n",
    "* RCR =0 is a special case, we will revisit this case later.\n",
    "\n",
    "$$\n",
    "  D_{RCR} = \\frac{1}{\\Phi_{down} }\\sum_{n=1}^9 {k_{RCR, N}}{\\Phi_N}\n",
    "$$\n",
    "\n",
    "$$\n",
    "  K_{RCR,N} = e^{-A * {RCR^B}} \n",
    "$$\n",
    "\n",
    "where A and B are constants for each flux zone"
   ]
  },
  {
   "cell_type": "markdown",
   "id": "2d673c18",
   "metadata": {},
   "source": [
    "<img src=\"img/4_1.png\" width=\"300\">"
   ]
  },
  {
   "cell_type": "code",
   "execution_count": 267,
   "id": "80cc8773",
   "metadata": {},
   "outputs": [
    {
     "data": {
      "text/plain": [
       "{1: (0, 0),\n",
       " 2: (0.041, 0.98),\n",
       " 3: (0.07, 1.05),\n",
       " 4: (0.1, 1.12),\n",
       " 5: (0.136, 1.16),\n",
       " 6: (0.19, 1.25),\n",
       " 7: (0.315, 1.25),\n",
       " 8: (0.64, 1.25),\n",
       " 9: (2.1, 0.8)}"
      ]
     },
     "metadata": {},
     "output_type": "display_data"
    }
   ],
   "source": [
    "# dict for zonal multiplier\n",
    "\n",
    "a = [0, 0.041, 0.070, 0.1, 0.136, 0.19,0.315, 0.64, 2.1]\n",
    "b = [0, 0.98, 1.05, 1.12, 1.16, 1.25, 1.25, 1.25, 0.8]\n",
    "zone = np.arange(1,10)\n",
    "\n",
    "zonal_mul_constant = dict(zip(zone, zip(a, b)))\n",
    "\n",
    "display(zonal_mul_constant)"
   ]
  },
  {
   "cell_type": "code",
   "execution_count": 268,
   "id": "3e5e4f84",
   "metadata": {},
   "outputs": [],
   "source": [
    "# calculate direct ratio for each RCR value (1 to 10)\n",
    "\n",
    "direct_ratio = {}\n",
    "\n",
    "for rcr in range(1,11):\n",
    "    flux_sum = 0 \n",
    "    for zone in range(1,10):\n",
    "        flux_sum += np.exp(-1 * zonal_mul_constant[zone][0] * np.power(rcr, zonal_mul_constant[zone][1]))*zl_dict[zone]\n",
    "    direct_ratio[rcr] = np.round(flux_sum/flux_down,3)\n",
    "        "
   ]
  },
  {
   "cell_type": "code",
   "execution_count": 269,
   "id": "df26fc9e",
   "metadata": {},
   "outputs": [
    {
     "data": {
      "text/plain": [
       "{1: 0.831,\n",
       " 2: 0.696,\n",
       " 3: 0.593,\n",
       " 4: 0.513,\n",
       " 5: 0.449,\n",
       " 6: 0.398,\n",
       " 7: 0.356,\n",
       " 8: 0.321,\n",
       " 9: 0.291,\n",
       " 10: 0.266}"
      ]
     },
     "execution_count": 269,
     "metadata": {},
     "output_type": "execute_result"
    }
   ],
   "source": [
    "direct_ratio"
   ]
  },
  {
   "cell_type": "markdown",
   "id": "c8b8e28a",
   "metadata": {},
   "source": [
    "### 5. Determin parameters $\\begin{aligned}C_1, C_2, C_3, C_0 \\end{aligned}$"
   ]
  },
  {
   "cell_type": "markdown",
   "id": "d6e5d5ba",
   "metadata": {},
   "source": [
    "$$\n",
    "  C_1 = \\frac{(1 - {\\rho_W})(1-f^2_{CC{\\rightarrow}FC})RCR}{2.5{\\rho_W}(1-f^2_{CC{\\rightarrow}FC}) + RCR {\\bullet}f_ {CC{\\rightarrow}FC}(1-{\\rho_W})}\n",
    "$$\n",
    "\n",
    "$$\n",
    "  C_2 = \\frac{(1 - {\\rho_{CC}})(1+f_{CC{\\rightarrow}FC})}{1 + {\\rho_{CC}} f_{CC{\\rightarrow}FC}}\n",
    "$$\n",
    "\n",
    "$$\n",
    "  C_3 = \\frac{(1 - {\\rho_{FC}})(1+f_{CC{\\rightarrow}FC})}{1 + {\\rho_{FC}} f_{CC{\\rightarrow}FC}}\n",
    "$$\n",
    "\n",
    "$$\n",
    "  C_0 = C_1 + C_2 + C_3\n",
    "$$\n",
    "\n",
    "* $\\begin{aligned}{\\rho_{CC}}\\end{aligned}$ is the ceiling cavity reflectance  \n",
    "* $\\begin{aligned}{\\rho_{W}}\\end{aligned}$ is the wall reflectance\n",
    "* $\\begin{aligned}{\\rho_{FC}}\\end{aligned}$ is the floor cavity reflectance, which is taken as 0.2 for standard CU tables\n",
    "* $\\begin{aligned}{f_{CC{\\rightarrow}FC}}\\end{aligned}$ is the form factor from the ceiling cavity to the floor cativity, shown in the table below\n"
   ]
  },
  {
   "cell_type": "markdown",
   "id": "0af39124",
   "metadata": {},
   "source": [
    "<img src=\"img/5_1.png\" width=\"400\">"
   ]
  },
  {
   "cell_type": "code",
   "execution_count": 270,
   "id": "b086eb0f",
   "metadata": {},
   "outputs": [
    {
     "data": {
      "text/plain": [
       "{1: 0.827,\n",
       " 2: 0.689,\n",
       " 3: 0.579,\n",
       " 4: 0.489,\n",
       " 5: 0.415,\n",
       " 6: 0.355,\n",
       " 7: 0.306,\n",
       " 8: 0.265,\n",
       " 9: 0.231,\n",
       " 10: 0.202}"
      ]
     },
     "execution_count": 270,
     "metadata": {},
     "output_type": "execute_result"
    }
   ],
   "source": [
    "# form factor for RCR 1 to 10\n",
    "form_factor_value = [0.827, 0.689, 0.579, 0.489, 0.415, 0.355, 0.306, 0.265, 0.231, 0.202]\n",
    "\n",
    "form_factor = dict(zip(np.arange(1,11), form_factor_value))\n",
    "\n",
    "form_factor"
   ]
  },
  {
   "cell_type": "markdown",
   "id": "90301c0a",
   "metadata": {},
   "source": [
    "### 6. Determine the CU for each combination of reflectance and RCR\n"
   ]
  },
  {
   "cell_type": "markdown",
   "id": "e6574e14",
   "metadata": {},
   "source": [
    "<img src=\"img/6_1.png\" width=\"600\">"
   ]
  },
  {
   "cell_type": "markdown",
   "id": "0802a4a4",
   "metadata": {},
   "source": [
    "#### This is a sample CU table generated by Photometric Toolbox\n",
    "* $\\begin{aligned}{\\rho_{CC}}\\end{aligned}$ value: 0.8/0.7/0.5/0.3/0.1/0\n",
    "* $\\begin{aligned}{\\rho_{w}}\\end{aligned}$ value: 0.7/0.5/0.3/0.1/0\n",
    "* $\\begin{aligned}{\\rho_{FC}}\\end{aligned}$ value: 0.2"
   ]
  },
  {
   "cell_type": "code",
   "execution_count": 271,
   "id": "33be598b",
   "metadata": {},
   "outputs": [],
   "source": [
    "reflectance_pair_cw = [[0.8,0.7], [0.8,0.5], [0.8,0.3], [0.8,0.1], [0.7, 0.7], [0.7,0.5], [0.7,0.3], [0.7,0.1], [0.5,0.5], [0.5,0.3], [0.5,0.1], [0.3,0.5], [0.3,0.3], [0.3,0.1],[0.1,0.5], [0.1,0.3],[0.1,0.1],[0,0]]"
   ]
  },
  {
   "cell_type": "markdown",
   "id": "5fe832d0",
   "metadata": {},
   "source": [
    "#### 6.1 CU for RCR 1 to 10"
   ]
  },
  {
   "cell_type": "code",
   "execution_count": 272,
   "id": "8f2a0bca",
   "metadata": {},
   "outputs": [],
   "source": [
    "cu = {}\n",
    "for rcr in range(1,11):\n",
    "    for r in reflectance_pair_cw:\n",
    "        c1 = (1 - r[1])*(1 - np.power(form_factor[rcr], 2))*rcr/(2.5*r[1]*(1 - np.power(form_factor[rcr], 2)) + rcr*form_factor[rcr]*(1 - r[1]))\n",
    "        c2 = (1 - r[0])*(1 + form_factor[rcr])/(1 + r[0]*form_factor[rcr])\n",
    "        c3 = (1 - 0.2)*(1 + form_factor[rcr])/(1+0.2*form_factor[rcr])\n",
    "        c0 = c1 + c2 + c3\n",
    "        cu1 = 2.5*r[1]*c1*c3*(1 - direct_ratio[rcr])*percent_down/(rcr*(1 - r[1])*(1 - 0.2)*c0)\n",
    "        cu2 = r[0]*c2*c3*percent_up/((1 - r[0])*(1 - 0.2)*c0)\n",
    "        cu3 = (1 - 0.2*c3*(c1 + c2)/((1 - 0.2)*c0))*(direct_ratio[rcr]*percent_down/(1 - 0.2))\n",
    "        cu[(rcr,r[0], r[1])] = np.round((cu1 + cu2 + cu3)*100,0)\n",
    "        "
   ]
  },
  {
   "cell_type": "markdown",
   "id": "fa9f43b1",
   "metadata": {},
   "source": [
    "#### 6.2 CU for RCR = 0"
   ]
  },
  {
   "cell_type": "code",
   "execution_count": 273,
   "id": "3c8be48a",
   "metadata": {},
   "outputs": [],
   "source": [
    "for r in reflectance_pair_cw:\n",
    "    cu[(0,r[0], r[1])] = np.round((percent_down + r[0]*percent_up)/(1 - r[0]*0.2)*100, 0)"
   ]
  },
  {
   "cell_type": "code",
   "execution_count": 274,
   "id": "a0c9d792",
   "metadata": {},
   "outputs": [
    {
     "data": {
      "text/plain": [
       "{(1, 0.8, 0.7): 108.0,\n",
       " (1, 0.8, 0.5): 104.0,\n",
       " (1, 0.8, 0.3): 99.0,\n",
       " (1, 0.8, 0.1): 95.0,\n",
       " (1, 0.7, 0.7): 106.0,\n",
       " (1, 0.7, 0.5): 101.0,\n",
       " (1, 0.7, 0.3): 97.0,\n",
       " (1, 0.7, 0.1): 94.0,\n",
       " (1, 0.5, 0.5): 97.0,\n",
       " (1, 0.5, 0.3): 94.0,\n",
       " (1, 0.5, 0.1): 91.0,\n",
       " (1, 0.3, 0.5): 93.0,\n",
       " (1, 0.3, 0.3): 90.0,\n",
       " (1, 0.3, 0.1): 88.0,\n",
       " (1, 0.1, 0.5): 89.0,\n",
       " (1, 0.1, 0.3): 87.0,\n",
       " (1, 0.1, 0.1): 85.0,\n",
       " (1, 0, 0): 83.0,\n",
       " (2, 0.8, 0.7): 99.0,\n",
       " (2, 0.8, 0.5): 91.0,\n",
       " (2, 0.8, 0.3): 84.0,\n",
       " (2, 0.8, 0.1): 78.0,\n",
       " (2, 0.7, 0.7): 96.0,\n",
       " (2, 0.7, 0.5): 89.0,\n",
       " (2, 0.7, 0.3): 82.0,\n",
       " (2, 0.7, 0.1): 77.0,\n",
       " (2, 0.5, 0.5): 85.0,\n",
       " (2, 0.5, 0.3): 80.0,\n",
       " (2, 0.5, 0.1): 75.0,\n",
       " (2, 0.3, 0.5): 82.0,\n",
       " (2, 0.3, 0.3): 77.0,\n",
       " (2, 0.3, 0.1): 73.0,\n",
       " (2, 0.1, 0.5): 79.0,\n",
       " (2, 0.1, 0.3): 75.0,\n",
       " (2, 0.1, 0.1): 72.0,\n",
       " (2, 0, 0): 70.0,\n",
       " (3, 0.8, 0.7): 90.0,\n",
       " (3, 0.8, 0.5): 80.0,\n",
       " (3, 0.8, 0.3): 72.0,\n",
       " (3, 0.8, 0.1): 65.0,\n",
       " (3, 0.7, 0.7): 88.0,\n",
       " (3, 0.7, 0.5): 78.0,\n",
       " (3, 0.7, 0.3): 71.0,\n",
       " (3, 0.7, 0.1): 65.0,\n",
       " (3, 0.5, 0.5): 75.0,\n",
       " (3, 0.5, 0.3): 69.0,\n",
       " (3, 0.5, 0.1): 64.0,\n",
       " (3, 0.3, 0.5): 73.0,\n",
       " (3, 0.3, 0.3): 67.0,\n",
       " (3, 0.3, 0.1): 63.0,\n",
       " (3, 0.1, 0.5): 70.0,\n",
       " (3, 0.1, 0.3): 65.0,\n",
       " (3, 0.1, 0.1): 61.0,\n",
       " (3, 0, 0): 59.0,\n",
       " (4, 0.8, 0.7): 83.0,\n",
       " (4, 0.8, 0.5): 71.0,\n",
       " (4, 0.8, 0.3): 63.0,\n",
       " (4, 0.8, 0.1): 56.0,\n",
       " (4, 0.7, 0.7): 81.0,\n",
       " (4, 0.7, 0.5): 70.0,\n",
       " (4, 0.7, 0.3): 62.0,\n",
       " (4, 0.7, 0.1): 56.0,\n",
       " (4, 0.5, 0.5): 68.0,\n",
       " (4, 0.5, 0.3): 60.0,\n",
       " (4, 0.5, 0.1): 55.0,\n",
       " (4, 0.3, 0.5): 65.0,\n",
       " (4, 0.3, 0.3): 59.0,\n",
       " (4, 0.3, 0.1): 54.0,\n",
       " (4, 0.1, 0.5): 63.0,\n",
       " (4, 0.1, 0.3): 58.0,\n",
       " (4, 0.1, 0.1): 53.0,\n",
       " (4, 0, 0): 51.0,\n",
       " (5, 0.8, 0.7): 77.0,\n",
       " (5, 0.8, 0.5): 64.0,\n",
       " (5, 0.8, 0.3): 55.0,\n",
       " (5, 0.8, 0.1): 49.0,\n",
       " (5, 0.7, 0.7): 75.0,\n",
       " (5, 0.7, 0.5): 63.0,\n",
       " (5, 0.7, 0.3): 55.0,\n",
       " (5, 0.7, 0.1): 49.0,\n",
       " (5, 0.5, 0.5): 61.0,\n",
       " (5, 0.5, 0.3): 54.0,\n",
       " (5, 0.5, 0.1): 48.0,\n",
       " (5, 0.3, 0.5): 59.0,\n",
       " (5, 0.3, 0.3): 53.0,\n",
       " (5, 0.3, 0.1): 47.0,\n",
       " (5, 0.1, 0.5): 57.0,\n",
       " (5, 0.1, 0.3): 52.0,\n",
       " (5, 0.1, 0.1): 47.0,\n",
       " (5, 0, 0): 45.0,\n",
       " (6, 0.8, 0.7): 71.0,\n",
       " (6, 0.8, 0.5): 58.0,\n",
       " (6, 0.8, 0.3): 49.0,\n",
       " (6, 0.8, 0.1): 43.0,\n",
       " (6, 0.7, 0.7): 69.0,\n",
       " (6, 0.7, 0.5): 57.0,\n",
       " (6, 0.7, 0.3): 49.0,\n",
       " (6, 0.7, 0.1): 43.0,\n",
       " (6, 0.5, 0.5): 55.0,\n",
       " (6, 0.5, 0.3): 48.0,\n",
       " (6, 0.5, 0.1): 43.0,\n",
       " (6, 0.3, 0.5): 54.0,\n",
       " (6, 0.3, 0.3): 47.0,\n",
       " (6, 0.3, 0.1): 42.0,\n",
       " (6, 0.1, 0.5): 52.0,\n",
       " (6, 0.1, 0.3): 46.0,\n",
       " (6, 0.1, 0.1): 42.0,\n",
       " (6, 0, 0): 40.0,\n",
       " (7, 0.8, 0.7): 66.0,\n",
       " (7, 0.8, 0.5): 53.0,\n",
       " (7, 0.8, 0.3): 45.0,\n",
       " (7, 0.8, 0.1): 39.0,\n",
       " (7, 0.7, 0.7): 65.0,\n",
       " (7, 0.7, 0.5): 52.0,\n",
       " (7, 0.7, 0.3): 44.0,\n",
       " (7, 0.7, 0.1): 38.0,\n",
       " (7, 0.5, 0.5): 51.0,\n",
       " (7, 0.5, 0.3): 43.0,\n",
       " (7, 0.5, 0.1): 38.0,\n",
       " (7, 0.3, 0.5): 49.0,\n",
       " (7, 0.3, 0.3): 43.0,\n",
       " (7, 0.3, 0.1): 38.0,\n",
       " (7, 0.1, 0.5): 48.0,\n",
       " (7, 0.1, 0.3): 42.0,\n",
       " (7, 0.1, 0.1): 38.0,\n",
       " (7, 0, 0): 36.0,\n",
       " (8, 0.8, 0.7): 62.0,\n",
       " (8, 0.8, 0.5): 49.0,\n",
       " (8, 0.8, 0.3): 40.0,\n",
       " (8, 0.8, 0.1): 35.0,\n",
       " (8, 0.7, 0.7): 60.0,\n",
       " (8, 0.7, 0.5): 48.0,\n",
       " (8, 0.7, 0.3): 40.0,\n",
       " (8, 0.7, 0.1): 35.0,\n",
       " (8, 0.5, 0.5): 47.0,\n",
       " (8, 0.5, 0.3): 40.0,\n",
       " (8, 0.5, 0.1): 34.0,\n",
       " (8, 0.3, 0.5): 45.0,\n",
       " (8, 0.3, 0.3): 39.0,\n",
       " (8, 0.3, 0.1): 34.0,\n",
       " (8, 0.1, 0.5): 44.0,\n",
       " (8, 0.1, 0.3): 38.0,\n",
       " (8, 0.1, 0.1): 34.0,\n",
       " (8, 0, 0): 32.0,\n",
       " (9, 0.8, 0.7): 58.0,\n",
       " (9, 0.8, 0.5): 45.0,\n",
       " (9, 0.8, 0.3): 37.0,\n",
       " (9, 0.8, 0.1): 31.0,\n",
       " (9, 0.7, 0.7): 57.0,\n",
       " (9, 0.7, 0.5): 44.0,\n",
       " (9, 0.7, 0.3): 37.0,\n",
       " (9, 0.7, 0.1): 31.0,\n",
       " (9, 0.5, 0.5): 43.0,\n",
       " (9, 0.5, 0.3): 36.0,\n",
       " (9, 0.5, 0.1): 31.0,\n",
       " (9, 0.3, 0.5): 42.0,\n",
       " (9, 0.3, 0.3): 36.0,\n",
       " (9, 0.3, 0.1): 31.0,\n",
       " (9, 0.1, 0.5): 41.0,\n",
       " (9, 0.1, 0.3): 35.0,\n",
       " (9, 0.1, 0.1): 31.0,\n",
       " (9, 0, 0): 29.0,\n",
       " (10, 0.8, 0.7): 55.0,\n",
       " (10, 0.8, 0.5): 42.0,\n",
       " (10, 0.8, 0.3): 34.0,\n",
       " (10, 0.8, 0.1): 29.0,\n",
       " (10, 0.7, 0.7): 53.0,\n",
       " (10, 0.7, 0.5): 41.0,\n",
       " (10, 0.7, 0.3): 34.0,\n",
       " (10, 0.7, 0.1): 29.0,\n",
       " (10, 0.5, 0.5): 40.0,\n",
       " (10, 0.5, 0.3): 33.0,\n",
       " (10, 0.5, 0.1): 29.0,\n",
       " (10, 0.3, 0.5): 39.0,\n",
       " (10, 0.3, 0.3): 33.0,\n",
       " (10, 0.3, 0.1): 28.0,\n",
       " (10, 0.1, 0.5): 38.0,\n",
       " (10, 0.1, 0.3): 33.0,\n",
       " (10, 0.1, 0.1): 28.0,\n",
       " (10, 0, 0): 27.0,\n",
       " (0, 0.8, 0.7): 119.0,\n",
       " (0, 0.8, 0.5): 119.0,\n",
       " (0, 0.8, 0.3): 119.0,\n",
       " (0, 0.8, 0.1): 119.0,\n",
       " (0, 0.7, 0.7): 116.0,\n",
       " (0, 0.7, 0.5): 116.0,\n",
       " (0, 0.7, 0.3): 116.0,\n",
       " (0, 0.7, 0.1): 116.0,\n",
       " (0, 0.5, 0.5): 111.0,\n",
       " (0, 0.5, 0.3): 111.0,\n",
       " (0, 0.5, 0.1): 111.0,\n",
       " (0, 0.3, 0.5): 106.0,\n",
       " (0, 0.3, 0.3): 106.0,\n",
       " (0, 0.3, 0.1): 106.0,\n",
       " (0, 0.1, 0.5): 102.0,\n",
       " (0, 0.1, 0.3): 102.0,\n",
       " (0, 0.1, 0.1): 102.0,\n",
       " (0, 0, 0): 100.0}"
      ]
     },
     "execution_count": 274,
     "metadata": {},
     "output_type": "execute_result"
    }
   ],
   "source": [
    "cu"
   ]
  },
  {
   "cell_type": "markdown",
   "id": "f198a5b0",
   "metadata": {},
   "source": [
    "#### CU dictionary key:  (RCR, ceiling cavity reflectance, wall reflectance)"
   ]
  },
  {
   "cell_type": "code",
   "execution_count": null,
   "id": "44a8dca3",
   "metadata": {},
   "outputs": [],
   "source": []
  }
 ],
 "metadata": {
  "kernelspec": {
   "display_name": "Python 3 (ipykernel)",
   "language": "python",
   "name": "python3"
  },
  "language_info": {
   "codemirror_mode": {
    "name": "ipython",
    "version": 3
   },
   "file_extension": ".py",
   "mimetype": "text/x-python",
   "name": "python",
   "nbconvert_exporter": "python",
   "pygments_lexer": "ipython3",
   "version": "3.9.7"
  }
 },
 "nbformat": 4,
 "nbformat_minor": 5
}
