{
 "cells": [
  {
   "cell_type": "code",
   "execution_count": 2,
   "id": "593de34b",
   "metadata": {},
   "outputs": [
    {
     "name": "stderr",
     "output_type": "stream",
     "text": [
      "C:\\Users\\guym\\anaconda3\\lib\\site-packages\\pandas\\core\\computation\\expressions.py:21: UserWarning: Pandas requires version '2.8.4' or newer of 'numexpr' (version '2.7.3' currently installed).\n",
      "  from pandas.core.computation.check import NUMEXPR_INSTALLED\n",
      "C:\\Users\\guym\\anaconda3\\lib\\site-packages\\pandas\\core\\arrays\\masked.py:60: UserWarning: Pandas requires version '1.3.6' or newer of 'bottleneck' (version '1.3.2' currently installed).\n",
      "  from pandas.core import (\n"
     ]
    }
   ],
   "source": [
    "import numpy as np\n",
    "import pandas as pd\n",
    "import luxpy as lp\n",
    "from scipy.interpolate import CubicSpline\n",
    "np.set_printoptions(suppress=False) \n",
    "\n",
    "import matplotlib.pyplot as plt"
   ]
  },
  {
   "cell_type": "markdown",
   "id": "8098e0c7",
   "metadata": {},
   "source": [
    "### 1. import IES files"
   ]
  },
  {
   "cell_type": "code",
   "execution_count": 3,
   "id": "1e1c5b40",
   "metadata": {},
   "outputs": [],
   "source": [
    "# pip install luxpy"
   ]
  },
  {
   "cell_type": "code",
   "execution_count": 4,
   "id": "d453a30f",
   "metadata": {},
   "outputs": [],
   "source": [
    "ies = lp.toolboxes.iolidfiles.read_lamp_data('ies/1.ies')"
   ]
  },
  {
   "cell_type": "code",
   "execution_count": 5,
   "id": "3f51f386",
   "metadata": {},
   "outputs": [
    {
     "data": {
      "text/plain": [
       "dict_keys(['datasource', 'name', 'version', 'lamps_num', 'lumens_per_lamp', 'candela_mult', 'v_angles_num', 'h_angles_num', 'photometric_type', 'units_type', 'width', 'length', 'height', 'ballast_factor', 'future_use', 'input_watts', 'v_angs', 'h_angs', 'lamp_cone_type', 'lamp_h_type', 'candela_values', 'candela_2d', 'v_same', 'h_same', 'intensity', 'map', 'norm_angs', 'Isym', 'theta', 'phi', 'values', 'Iv0'])"
      ]
     },
     "execution_count": 5,
     "metadata": {},
     "output_type": "execute_result"
    }
   ],
   "source": [
    "ies.keys()"
   ]
  },
  {
   "cell_type": "code",
   "execution_count": 6,
   "id": "ad9b6ad2",
   "metadata": {},
   "outputs": [
    {
     "name": "stdout",
     "output_type": "stream",
     "text": [
      " luminaire width:  1.47 \n",
      " luminaire length:  1.47 \n",
      " luminaire height:  0.2375 \n",
      " luminaire wattage:  69.6 \n",
      " candela multiplier:  1.032007\n"
     ]
    }
   ],
   "source": [
    "print(' luminaire width: ', ies['width'], '\\n', \n",
    "      'luminaire length: ', ies['length'],'\\n', \n",
    "      'luminaire height: ', ies['height'],'\\n',\n",
    "     'luminaire wattage: ', ies['input_watts'], '\\n', \n",
    "      'candela multiplier: ', ies['candela_mult'])"
   ]
  },
  {
   "cell_type": "markdown",
   "id": "67ff42c3",
   "metadata": {},
   "source": [
    "Key `candela_mult`, `v_angs`, `h_angs`, `candela_values` were used below."
   ]
  },
  {
   "cell_type": "markdown",
   "id": "50c0f8d7",
   "metadata": {},
   "source": [
    "#### There are three types of Luminiare testing methods - Indoor, Roadway and Floodlight \n",
    "\n",
    "\n",
    "#### a. This is the coordinate system when the fixture is tested as indoor / roadway luminiare"
   ]
  },
  {
   "cell_type": "markdown",
   "id": "af36ad39",
   "metadata": {},
   "source": [
    "<img src=\"img/1_0.png\" width=\"700\">"
   ]
  },
  {
   "cell_type": "markdown",
   "id": "75764192",
   "metadata": {},
   "source": [
    "#### b. This is the coordinate system when the fixture is tested as floodlight luminiare"
   ]
  },
  {
   "cell_type": "markdown",
   "id": "fe4a6c34",
   "metadata": {},
   "source": [
    "<img src=\"img/1_2.png\" width=\"450\">"
   ]
  },
  {
   "cell_type": "markdown",
   "id": "d90a2fa6",
   "metadata": {},
   "source": [
    "#### The following codes only apply to condition `a`, when the fixture is tested as indoor / roadway luminiare"
   ]
  },
  {
   "cell_type": "markdown",
   "id": "1bfa355d",
   "metadata": {},
   "source": [
    "#### 1.1 raw Intensity (candela) values"
   ]
  },
  {
   "cell_type": "code",
   "execution_count": 7,
   "id": "c8ccc1b2",
   "metadata": {},
   "outputs": [],
   "source": [
    "n_h_angles = len(ies['h_angs'])\n",
    "n_v_angles = len(ies['v_angs'])\n",
    "\n",
    "# create numpy array and insert intensity values(multiplied by candela_mult)\n",
    "cd = np.zeros((n_h_angles, n_v_angles))\n",
    "\n",
    "for i in range(n_h_angles):\n",
    "    end_angles = n_v_angles*(i+1)\n",
    "    cd[i] = ies['candela_values'][i*n_v_angles:end_angles]*ies['candela_mult']"
   ]
  },
  {
   "cell_type": "code",
   "execution_count": 8,
   "id": "b69a04d7",
   "metadata": {},
   "outputs": [
    {
     "data": {
      "text/plain": [
       "(12, 74)"
      ]
     },
     "execution_count": 8,
     "metadata": {},
     "output_type": "execute_result"
    }
   ],
   "source": [
    "cd.shape"
   ]
  },
  {
   "cell_type": "markdown",
   "id": "e8ecedc9",
   "metadata": {},
   "source": [
    "#### 1.2 broadcast intensity values to full 0-360° horizontal plane"
   ]
  },
  {
   "cell_type": "markdown",
   "id": "5fe3e18e",
   "metadata": {},
   "source": [
    "* `Quadrilateral symmetric` horizontal testing angles within [0-90°]\n",
    "* `Bilateral symmetric` horizontal testing angles angles within [0-180°]\n",
    "* `Axial symmetric` horizontal testing angles angle = 0°\n",
    "* `Asymetric` A complete set of horizontal testing angles from 0-360° (may or may not include 360°)"
   ]
  },
  {
   "cell_type": "code",
   "execution_count": 9,
   "id": "976e93db",
   "metadata": {},
   "outputs": [
    {
     "data": {
      "text/plain": [
       "array([ 0.,  5., 15., 25., 35., 45., 46., 55., 65., 75., 85., 90.])"
      ]
     },
     "execution_count": 9,
     "metadata": {},
     "output_type": "execute_result"
    }
   ],
   "source": [
    "ies['h_angs']"
   ]
  },
  {
   "cell_type": "code",
   "execution_count": 10,
   "id": "34b2df16",
   "metadata": {},
   "outputs": [],
   "source": [
    "def broadcast(cd, h_angs):\n",
    "    \n",
    "    if max(h_angs)==360: # asymmetric, 360° is included\n",
    "        full_h_angs = h_angs\n",
    "        cd_0_360 = cd\n",
    "        \n",
    "    elif max(h_angs) > 180: # asymmetric, 360° not included\n",
    "        full_h_angs = np.append(h_angs,360) # add 360°\n",
    "        cd_0_360 = np.vstack((cd, cd[0])) # copy intensity data @0° to 360°\n",
    "    \n",
    "    elif max(h_angs) == 90: # quadrilateral symmetric\n",
    "        h_angs_1 = 180 - h_angs[0:-1] # angle for 90° - 180° plane\n",
    "        h_angs_2 = 180 + h_angs[1:] # angle for 0° - 180° plane\n",
    "        h_angs_3 = 360 - h_angs[0:-1] # angle for 180° - 360° plane\n",
    "        full_h_angs = np.sort(np.concatenate((h_angs, h_angs_1, h_angs_2, h_angs_3))) # full horizontal angles\n",
    "        cd_90_180 = cd[:-1][::-1]  # intensity value for 90° - 180° plane\n",
    "        cd_0_180 = np.vstack((cd, cd_90_180))  # intensity value for 0° - 180° plane\n",
    "        cd_180_360 = cd_0_180[:-1][::-1]   # intensity value for 180° - 360° plane\n",
    "        cd_0_360 = np.vstack((cd_0_180, cd_180_360))  # intensity value for 0° - 360° plane\n",
    "        \n",
    "    elif max(h_angs) == 180: # bilateral symmetric\n",
    "        h_angs_1 = 360 - h_angs[:-1]\n",
    "        full_h_angs = np.sort(np.concatenate((h_angs, h_angs_1))) # full horizontal angles\n",
    "        cd_180_360 = cd[:-1][::-1] # intensity value for 180° - 360° plane\n",
    "        cd_0_360 = np.vstack((cd, cd_180_360))  # intensity value for 0° - 360° plane\n",
    "        \n",
    "    elif max(h_angs) == 0: # axial symmetric\n",
    "        full_h_angs = np.arange(0,360+1, 22.5) # standard indoor luminaire horizontal testing intervals\n",
    "        cd_0_360 = np.repeat(cd, len(full_h_angs), axis=0) # intensity value for 0° - 360° plane \n",
    "        # changed from np.repeat([cd], len(full_h_angs), axis=0)\n",
    "        \n",
    "    return cd_0_360, full_h_angs\n",
    "    "
   ]
  },
  {
   "cell_type": "code",
   "execution_count": 11,
   "id": "52b17199",
   "metadata": {},
   "outputs": [],
   "source": [
    "full_cd, full_h_angs = broadcast(cd, ies['h_angs'])"
   ]
  },
  {
   "cell_type": "code",
   "execution_count": 12,
   "id": "d2d6bc43",
   "metadata": {},
   "outputs": [
    {
     "data": {
      "text/plain": [
       "array([[401.450723, 404.546744, 409.706779, ...,  15.480105,  15.480105,\n",
       "         15.480105],\n",
       "       [401.450723, 404.546744, 409.706779, ...,  15.480105,  15.480105,\n",
       "         15.480105],\n",
       "       [401.450723, 403.514737, 409.706779, ...,  15.480105,  15.480105,\n",
       "         15.480105],\n",
       "       ...,\n",
       "       [401.450723, 403.514737, 409.706779, ...,  15.480105,  15.480105,\n",
       "         15.480105],\n",
       "       [401.450723, 404.546744, 409.706779, ...,  15.480105,  15.480105,\n",
       "         15.480105],\n",
       "       [401.450723, 404.546744, 409.706779, ...,  15.480105,  15.480105,\n",
       "         15.480105]])"
      ]
     },
     "metadata": {},
     "output_type": "display_data"
    },
    {
     "data": {
      "text/plain": [
       "array([  0.,   5.,  15.,  25.,  35.,  45.,  46.,  55.,  65.,  75.,  85.,\n",
       "        90.,  95., 105., 115., 125., 134., 135., 145., 155., 165., 175.,\n",
       "       180., 185., 195., 205., 215., 225., 226., 235., 245., 255., 265.,\n",
       "       270., 275., 285., 295., 305., 314., 315., 325., 335., 345., 355.,\n",
       "       360.])"
      ]
     },
     "metadata": {},
     "output_type": "display_data"
    }
   ],
   "source": [
    "display(full_cd, full_h_angs)"
   ]
  },
  {
   "cell_type": "markdown",
   "id": "0c49fb7b",
   "metadata": {},
   "source": [
    "-------------------------------------------------------------------------------"
   ]
  },
  {
   "cell_type": "markdown",
   "id": "fd43e869",
   "metadata": {},
   "source": [
    "#### 1.3 Interpolate intensity value if raw data is not evenly distributed, delete duplicated data at horizontal 360° "
   ]
  },
  {
   "cell_type": "code",
   "execution_count": 13,
   "id": "489c14f8",
   "metadata": {},
   "outputs": [],
   "source": [
    "def interpolate(cd, h_angs, v_angs):\n",
    "    \n",
    "    if all(np.diff(h_angs)==np.diff(h_angs)[0]): # horizontal angles have equal intervals\n",
    "        cd_inter = cd[:-1].transpose() # delete data @360°, transpose data for future use\n",
    "        h_angs_inter = h_angs\n",
    "        \n",
    "    else: # horizontal angles have unequal intervals\n",
    "        min_step = np.diff(h_angs).min() # find the minimum interval\n",
    "        cd_T = cd.transpose() # transpose data for calculation\n",
    "        \n",
    "        if np.sum(np.diff(ies['h_angs'])%min_step) == 0:\n",
    "            h_angs_inter = np.arange(0, 361, step=min_step) # create an array of angles with equal interval            \n",
    "            cd_inter = np.zeros((len(v_angs), len(h_angs_inter))) \n",
    "            for i in range(len(v_angs)):\n",
    "                cd_inter[i] = np.interp(h_angs_inter, h_angs, cd_T[i]) # linear interpolation\n",
    "                \n",
    "        else:\n",
    "            h_angs_inter = np.arange(0, 361, step=1) # create an array of angles with equal interval\n",
    "            cd_inter = np.zeros((len(v_angs), len(h_angs_inter))) \n",
    "            for i in range(len(v_angs)):\n",
    "                # f = CubicSpline(h_angs, cd_T[i], bc_type='natural') # Cubic spline interpolation\n",
    "                # cd_inter[i] = f(h_angs_inter)\n",
    "                cd_inter[i] = np.interp(h_angs_inter, h_angs, cd_T[i]) # linear interpolation\n",
    "            \n",
    "        cd_inter = np.delete(cd_inter, -1, axis=1) # delete data @360°\n",
    "        \n",
    "    return cd_inter, h_angs_inter"
   ]
  },
  {
   "cell_type": "code",
   "execution_count": 14,
   "id": "004c819e",
   "metadata": {},
   "outputs": [],
   "source": [
    "cd_inter, h_angs_inter = interpolate(full_cd, full_h_angs, ies['v_angs'])"
   ]
  },
  {
   "cell_type": "code",
   "execution_count": 15,
   "id": "2cdb09af",
   "metadata": {},
   "outputs": [
    {
     "data": {
      "text/plain": [
       "(74, 360)"
      ]
     },
     "execution_count": 15,
     "metadata": {},
     "output_type": "execute_result"
    }
   ],
   "source": [
    "cd_inter.shape"
   ]
  },
  {
   "cell_type": "code",
   "execution_count": 40,
   "id": "63a7dce4",
   "metadata": {},
   "outputs": [
    {
     "data": {
      "text/plain": [
       "array([[401.450723, 401.450723, 401.450723, ..., 401.450723, 401.450723,\n",
       "        401.450723],\n",
       "       [404.546744, 404.546744, 404.546744, ..., 404.546744, 404.546744,\n",
       "        404.546744],\n",
       "       [409.706779, 409.706779, 409.706779, ..., 409.706779, 409.706779,\n",
       "        409.706779],\n",
       "       ...,\n",
       "       [ 15.480105,  15.480105,  15.480105, ...,  15.480105,  15.480105,\n",
       "         15.480105],\n",
       "       [ 15.480105,  15.480105,  15.480105, ...,  15.480105,  15.480105,\n",
       "         15.480105],\n",
       "       [ 15.480105,  15.480105,  15.480105, ...,  15.480105,  15.480105,\n",
       "         15.480105]])"
      ]
     },
     "execution_count": 40,
     "metadata": {},
     "output_type": "execute_result"
    }
   ],
   "source": [
    "cd_inter"
   ]
  },
  {
   "cell_type": "markdown",
   "id": "ba818e04",
   "metadata": {},
   "source": [
    "#### 1.4 Intensity (candelapower at Point A, B, C)"
   ]
  },
  {
   "cell_type": "markdown",
   "id": "2532e8e5",
   "metadata": {},
   "source": [
    "#### Point A: Intensity(cd, candlepower) at (0°,0°)"
   ]
  },
  {
   "cell_type": "code",
   "execution_count": 41,
   "id": "1ddfae28",
   "metadata": {},
   "outputs": [],
   "source": [
    "h_index, = np.where(h_angs_inter ==0)\n",
    "v_index, = np.where(ies['v_angs'] ==0)"
   ]
  },
  {
   "cell_type": "code",
   "execution_count": 42,
   "id": "d64188fb",
   "metadata": {},
   "outputs": [],
   "source": [
    "cd_0_0 = cd_inter[v_index][0][h_index][0]"
   ]
  },
  {
   "cell_type": "code",
   "execution_count": 43,
   "id": "51d81a1b",
   "metadata": {},
   "outputs": [
    {
     "data": {
      "text/plain": [
       "401.450723"
      ]
     },
     "execution_count": 43,
     "metadata": {},
     "output_type": "execute_result"
    }
   ],
   "source": [
    "cd_0_0"
   ]
  },
  {
   "cell_type": "markdown",
   "id": "25ea7eba",
   "metadata": {},
   "source": [
    "#### Point B: Intensity(cd, candlepower) at (45°,0°)"
   ]
  },
  {
   "cell_type": "code",
   "execution_count": 44,
   "id": "cf1b67fe",
   "metadata": {},
   "outputs": [],
   "source": [
    "h_index, = np.where(h_angs_inter == 0)\n",
    "v_index, = np.where(ies['v_angs'] ==45)"
   ]
  },
  {
   "cell_type": "code",
   "execution_count": 45,
   "id": "7991f4d7",
   "metadata": {},
   "outputs": [],
   "source": [
    "cd_45_0 = cd_inter[v_index][0][h_index][0]"
   ]
  },
  {
   "cell_type": "code",
   "execution_count": 46,
   "id": "f967580c",
   "metadata": {},
   "outputs": [
    {
     "data": {
      "text/plain": [
       "1095.9914339999998"
      ]
     },
     "execution_count": 46,
     "metadata": {},
     "output_type": "execute_result"
    }
   ],
   "source": [
    "cd_45_0"
   ]
  },
  {
   "cell_type": "markdown",
   "id": "61e542d5",
   "metadata": {},
   "source": [
    "#### Point C: Intensity(cd, candlepower) at (54.73°,45°)"
   ]
  },
  {
   "cell_type": "code",
   "execution_count": 47,
   "id": "74b88d23",
   "metadata": {},
   "outputs": [],
   "source": [
    "h_index, = np.where(h_angs_inter ==45)\n",
    "v_index, = np.where(ies['v_angs'] ==52.5)"
   ]
  },
  {
   "cell_type": "code",
   "execution_count": 48,
   "id": "d33434f1",
   "metadata": {},
   "outputs": [],
   "source": [
    "cd_525_45 = cd_inter[v_index][0][h_index][0]"
   ]
  },
  {
   "cell_type": "code",
   "execution_count": 49,
   "id": "7ed5874f",
   "metadata": {},
   "outputs": [],
   "source": [
    "h_index, = np.where(h_angs_inter ==45)\n",
    "v_index, = np.where(ies['v_angs'] ==55)"
   ]
  },
  {
   "cell_type": "code",
   "execution_count": 50,
   "id": "0221c922",
   "metadata": {},
   "outputs": [],
   "source": [
    "cd_55_45 = cd_inter[v_index][0][h_index][0]"
   ]
  },
  {
   "cell_type": "code",
   "execution_count": 51,
   "id": "64647ce1",
   "metadata": {},
   "outputs": [],
   "source": [
    "cd_5473_45 = np.interp(54.73, [52.5,55], [cd_525_45, cd_55_45])"
   ]
  },
  {
   "cell_type": "code",
   "execution_count": 52,
   "id": "fdf03cb6",
   "metadata": {},
   "outputs": [
    {
     "data": {
      "text/plain": [
       "1516.9553453559997"
      ]
     },
     "execution_count": 52,
     "metadata": {},
     "output_type": "execute_result"
    }
   ],
   "source": [
    "cd_5473_45"
   ]
  },
  {
   "cell_type": "markdown",
   "id": "d7578224",
   "metadata": {},
   "source": [
    "### 2. Zonal Lumen calculation"
   ]
  },
  {
   "cell_type": "markdown",
   "id": "3dc7b2ad",
   "metadata": {},
   "source": [
    "<img src=\"img/2_1.png\" width=\"300\">"
   ]
  },
  {
   "cell_type": "markdown",
   "id": "b690bcde",
   "metadata": {},
   "source": [
    "#### Flux in a conic solid angle is given by: \n",
    "$$\n",
    "  \\Phi_N = 2\\pi I_{\\theta_N} (cos{\\theta_N} - cos{\\theta_{N+1}}  )\n",
    "$$"
   ]
  },
  {
   "cell_type": "markdown",
   "id": "731856ea",
   "metadata": {},
   "source": [
    "#### 2.1 Caculate zonal constant for each vertical angle"
   ]
  },
  {
   "cell_type": "code",
   "execution_count": 70,
   "id": "eedcbbad",
   "metadata": {},
   "outputs": [],
   "source": [
    "v_angs_1 = ies['v_angs'][:-1] \n",
    "v_angs_2 = ies['v_angs'][1:]\n",
    "c = zip(v_angs_1, v_angs_2)\n",
    "\n",
    "zonal_constant = []\n",
    "\n",
    "for a, b in c:\n",
    "    zonal_constant.append(2*np.pi*(np.cos(a*np.pi/180) - np.cos(b*np.pi/180)))"
   ]
  },
  {
   "cell_type": "markdown",
   "id": "f43a01b2",
   "metadata": {},
   "source": [
    "#### 2.2 Caculate average instensity value(cd) between two vertical angle zones"
   ]
  },
  {
   "cell_type": "code",
   "execution_count": 71,
   "id": "d95d5bc8",
   "metadata": {},
   "outputs": [],
   "source": [
    "avg_cd = [(np.mean(cd_inter[i])+np.mean(cd_inter[i+1]))/2 for i in range(len(ies['v_angs'])-1)]"
   ]
  },
  {
   "cell_type": "code",
   "execution_count": 72,
   "id": "d9023cf4",
   "metadata": {},
   "outputs": [],
   "source": [
    "# create a dataframe with vertical angles, average instensity and zonal constant data\n",
    "\n",
    "df = pd.DataFrame({'v_angle_1': ies['v_angs'][:-1],\n",
    "                   'v_angle_2': ies['v_angs'][1:],\n",
    "                   'average_insensity': avg_cd, \n",
    "                   'zonal_constant': np.array(zonal_constant)})"
   ]
  },
  {
   "cell_type": "markdown",
   "id": "973b923b",
   "metadata": {},
   "source": [
    "#### 2.3 Caculate zonal lumen for each vertical angle zone"
   ]
  },
  {
   "cell_type": "code",
   "execution_count": 73,
   "id": "0f9f058c",
   "metadata": {},
   "outputs": [],
   "source": [
    "df['zonal_lumen'] = df['average_insensity']*df['zonal_constant']"
   ]
  },
  {
   "cell_type": "code",
   "execution_count": 74,
   "id": "00f2f815",
   "metadata": {},
   "outputs": [
    {
     "data": {
      "text/html": [
       "<div>\n",
       "<style scoped>\n",
       "    .dataframe tbody tr th:only-of-type {\n",
       "        vertical-align: middle;\n",
       "    }\n",
       "\n",
       "    .dataframe tbody tr th {\n",
       "        vertical-align: top;\n",
       "    }\n",
       "\n",
       "    .dataframe thead th {\n",
       "        text-align: right;\n",
       "    }\n",
       "</style>\n",
       "<table border=\"1\" class=\"dataframe\">\n",
       "  <thead>\n",
       "    <tr style=\"text-align: right;\">\n",
       "      <th></th>\n",
       "      <th>v_angle_1</th>\n",
       "      <th>v_angle_2</th>\n",
       "      <th>average_insensity</th>\n",
       "      <th>zonal_constant</th>\n",
       "      <th>zonal_lumen</th>\n",
       "    </tr>\n",
       "  </thead>\n",
       "  <tbody>\n",
       "    <tr>\n",
       "      <th>0</th>\n",
       "      <td>0.0</td>\n",
       "      <td>2.5</td>\n",
       "      <td>402.823866</td>\n",
       "      <td>0.005980</td>\n",
       "      <td>2.408967</td>\n",
       "    </tr>\n",
       "    <tr>\n",
       "      <th>1</th>\n",
       "      <td>2.5</td>\n",
       "      <td>5.0</td>\n",
       "      <td>407.723032</td>\n",
       "      <td>0.017929</td>\n",
       "      <td>7.310155</td>\n",
       "    </tr>\n",
       "    <tr>\n",
       "      <th>2</th>\n",
       "      <td>5.0</td>\n",
       "      <td>7.5</td>\n",
       "      <td>415.207950</td>\n",
       "      <td>0.029844</td>\n",
       "      <td>12.391509</td>\n",
       "    </tr>\n",
       "    <tr>\n",
       "      <th>3</th>\n",
       "      <td>7.5</td>\n",
       "      <td>10.0</td>\n",
       "      <td>423.048336</td>\n",
       "      <td>0.041702</td>\n",
       "      <td>17.642039</td>\n",
       "    </tr>\n",
       "    <tr>\n",
       "      <th>4</th>\n",
       "      <td>10.0</td>\n",
       "      <td>12.5</td>\n",
       "      <td>432.987137</td>\n",
       "      <td>0.053481</td>\n",
       "      <td>23.156532</td>\n",
       "    </tr>\n",
       "    <tr>\n",
       "      <th>...</th>\n",
       "      <td>...</td>\n",
       "      <td>...</td>\n",
       "      <td>...</td>\n",
       "      <td>...</td>\n",
       "      <td>...</td>\n",
       "    </tr>\n",
       "    <tr>\n",
       "      <th>68</th>\n",
       "      <td>167.5</td>\n",
       "      <td>170.0</td>\n",
       "      <td>18.077323</td>\n",
       "      <td>0.053481</td>\n",
       "      <td>0.966791</td>\n",
       "    </tr>\n",
       "    <tr>\n",
       "      <th>69</th>\n",
       "      <td>170.0</td>\n",
       "      <td>172.5</td>\n",
       "      <td>16.004709</td>\n",
       "      <td>0.041702</td>\n",
       "      <td>0.667431</td>\n",
       "    </tr>\n",
       "    <tr>\n",
       "      <th>70</th>\n",
       "      <td>172.5</td>\n",
       "      <td>175.0</td>\n",
       "      <td>14.445231</td>\n",
       "      <td>0.029844</td>\n",
       "      <td>0.431105</td>\n",
       "    </tr>\n",
       "    <tr>\n",
       "      <th>71</th>\n",
       "      <td>175.0</td>\n",
       "      <td>177.5</td>\n",
       "      <td>14.221630</td>\n",
       "      <td>0.017929</td>\n",
       "      <td>0.254983</td>\n",
       "    </tr>\n",
       "    <tr>\n",
       "      <th>72</th>\n",
       "      <td>177.5</td>\n",
       "      <td>180.0</td>\n",
       "      <td>15.021435</td>\n",
       "      <td>0.005980</td>\n",
       "      <td>0.089831</td>\n",
       "    </tr>\n",
       "  </tbody>\n",
       "</table>\n",
       "<p>73 rows × 5 columns</p>\n",
       "</div>"
      ],
      "text/plain": [
       "    v_angle_1  v_angle_2  average_insensity  zonal_constant  zonal_lumen\n",
       "0         0.0        2.5         402.823866        0.005980     2.408967\n",
       "1         2.5        5.0         407.723032        0.017929     7.310155\n",
       "2         5.0        7.5         415.207950        0.029844    12.391509\n",
       "3         7.5       10.0         423.048336        0.041702    17.642039\n",
       "4        10.0       12.5         432.987137        0.053481    23.156532\n",
       "..        ...        ...                ...             ...          ...\n",
       "68      167.5      170.0          18.077323        0.053481     0.966791\n",
       "69      170.0      172.5          16.004709        0.041702     0.667431\n",
       "70      172.5      175.0          14.445231        0.029844     0.431105\n",
       "71      175.0      177.5          14.221630        0.017929     0.254983\n",
       "72      177.5      180.0          15.021435        0.005980     0.089831\n",
       "\n",
       "[73 rows x 5 columns]"
      ]
     },
     "execution_count": 74,
     "metadata": {},
     "output_type": "execute_result"
    }
   ],
   "source": [
    "df"
   ]
  },
  {
   "cell_type": "markdown",
   "id": "10d6b703",
   "metadata": {},
   "source": [
    "#### 2.4 convert zonal lumen to standard 18 zones (10° interval)"
   ]
  },
  {
   "cell_type": "code",
   "execution_count": 75,
   "id": "37b38e47",
   "metadata": {},
   "outputs": [],
   "source": [
    "label = ['0-10', '10-20', '20-30', '30-40', '40-50', '50-60', '60-70', '70-80', '80-90', '90-100', '100-110', '110-120', '120-130','130-140', '140-150', '150-160', '160-170', '170-180' ]\n",
    "df['bin'] = pd.cut(df['v_angle_2'], bins=np.arange(0,181,10), labels=label)\n"
   ]
  },
  {
   "cell_type": "code",
   "execution_count": 76,
   "id": "5a5e0d70",
   "metadata": {},
   "outputs": [
    {
     "name": "stderr",
     "output_type": "stream",
     "text": [
      "C:\\Users\\guym\\AppData\\Local\\Temp/ipykernel_17748/2851976775.py:1: FutureWarning: The default of observed=False is deprecated and will be changed to True in a future version of pandas. Pass observed=False to retain current behavior or observed=True to adopt the future default and silence this warning.\n",
      "  zl = pd.DataFrame({'zonal_lumen': df.groupby('bin').sum()['zonal_lumen'].round(2),\n"
     ]
    }
   ],
   "source": [
    "zl = pd.DataFrame({'zonal_lumen': df.groupby('bin').sum()['zonal_lumen'].round(2),\n",
    "                  'zone_number': np.arange(1,19,1)})"
   ]
  },
  {
   "cell_type": "code",
   "execution_count": 77,
   "id": "f5853e98",
   "metadata": {},
   "outputs": [
    {
     "data": {
      "text/html": [
       "<div>\n",
       "<style scoped>\n",
       "    .dataframe tbody tr th:only-of-type {\n",
       "        vertical-align: middle;\n",
       "    }\n",
       "\n",
       "    .dataframe tbody tr th {\n",
       "        vertical-align: top;\n",
       "    }\n",
       "\n",
       "    .dataframe thead th {\n",
       "        text-align: right;\n",
       "    }\n",
       "</style>\n",
       "<table border=\"1\" class=\"dataframe\">\n",
       "  <thead>\n",
       "    <tr style=\"text-align: right;\">\n",
       "      <th></th>\n",
       "      <th>zonal_lumen</th>\n",
       "      <th>zone_number</th>\n",
       "    </tr>\n",
       "    <tr>\n",
       "      <th>bin</th>\n",
       "      <th></th>\n",
       "      <th></th>\n",
       "    </tr>\n",
       "  </thead>\n",
       "  <tbody>\n",
       "    <tr>\n",
       "      <th>0-10</th>\n",
       "      <td>39.75</td>\n",
       "      <td>1</td>\n",
       "    </tr>\n",
       "    <tr>\n",
       "      <th>10-20</th>\n",
       "      <td>132.01</td>\n",
       "      <td>2</td>\n",
       "    </tr>\n",
       "    <tr>\n",
       "      <th>20-30</th>\n",
       "      <td>271.31</td>\n",
       "      <td>3</td>\n",
       "    </tr>\n",
       "    <tr>\n",
       "      <th>30-40</th>\n",
       "      <td>479.16</td>\n",
       "      <td>4</td>\n",
       "    </tr>\n",
       "    <tr>\n",
       "      <th>40-50</th>\n",
       "      <td>832.45</td>\n",
       "      <td>5</td>\n",
       "    </tr>\n",
       "    <tr>\n",
       "      <th>50-60</th>\n",
       "      <td>1466.36</td>\n",
       "      <td>6</td>\n",
       "    </tr>\n",
       "    <tr>\n",
       "      <th>60-70</th>\n",
       "      <td>1881.31</td>\n",
       "      <td>7</td>\n",
       "    </tr>\n",
       "    <tr>\n",
       "      <th>70-80</th>\n",
       "      <td>1255.48</td>\n",
       "      <td>8</td>\n",
       "    </tr>\n",
       "    <tr>\n",
       "      <th>80-90</th>\n",
       "      <td>635.62</td>\n",
       "      <td>9</td>\n",
       "    </tr>\n",
       "    <tr>\n",
       "      <th>90-100</th>\n",
       "      <td>570.73</td>\n",
       "      <td>10</td>\n",
       "    </tr>\n",
       "    <tr>\n",
       "      <th>100-110</th>\n",
       "      <td>624.64</td>\n",
       "      <td>11</td>\n",
       "    </tr>\n",
       "    <tr>\n",
       "      <th>110-120</th>\n",
       "      <td>528.23</td>\n",
       "      <td>12</td>\n",
       "    </tr>\n",
       "    <tr>\n",
       "      <th>120-130</th>\n",
       "      <td>304.10</td>\n",
       "      <td>13</td>\n",
       "    </tr>\n",
       "    <tr>\n",
       "      <th>130-140</th>\n",
       "      <td>131.55</td>\n",
       "      <td>14</td>\n",
       "    </tr>\n",
       "    <tr>\n",
       "      <th>140-150</th>\n",
       "      <td>45.93</td>\n",
       "      <td>15</td>\n",
       "    </tr>\n",
       "    <tr>\n",
       "      <th>150-160</th>\n",
       "      <td>11.83</td>\n",
       "      <td>16</td>\n",
       "    </tr>\n",
       "    <tr>\n",
       "      <th>160-170</th>\n",
       "      <td>5.27</td>\n",
       "      <td>17</td>\n",
       "    </tr>\n",
       "    <tr>\n",
       "      <th>170-180</th>\n",
       "      <td>1.44</td>\n",
       "      <td>18</td>\n",
       "    </tr>\n",
       "  </tbody>\n",
       "</table>\n",
       "</div>"
      ],
      "text/plain": [
       "         zonal_lumen  zone_number\n",
       "bin                              \n",
       "0-10           39.75            1\n",
       "10-20         132.01            2\n",
       "20-30         271.31            3\n",
       "30-40         479.16            4\n",
       "40-50         832.45            5\n",
       "50-60        1466.36            6\n",
       "60-70        1881.31            7\n",
       "70-80        1255.48            8\n",
       "80-90         635.62            9\n",
       "90-100        570.73           10\n",
       "100-110       624.64           11\n",
       "110-120       528.23           12\n",
       "120-130       304.10           13\n",
       "130-140       131.55           14\n",
       "140-150        45.93           15\n",
       "150-160        11.83           16\n",
       "160-170         5.27           17\n",
       "170-180         1.44           18"
      ]
     },
     "execution_count": 77,
     "metadata": {},
     "output_type": "execute_result"
    }
   ],
   "source": [
    "zl"
   ]
  },
  {
   "cell_type": "code",
   "execution_count": 78,
   "id": "45d7dda9",
   "metadata": {},
   "outputs": [],
   "source": [
    "# create a dict of zonal lumens, with zone number 1 to 9\n",
    "\n",
    "zl_dict = dict(zip(zl['zone_number'][:9], zl['zonal_lumen'][:9]))"
   ]
  },
  {
   "cell_type": "code",
   "execution_count": 79,
   "id": "e1b5f21e",
   "metadata": {},
   "outputs": [
    {
     "data": {
      "text/plain": [
       "{1: 39.75,\n",
       " 2: 132.01,\n",
       " 3: 271.31,\n",
       " 4: 479.16,\n",
       " 5: 832.45,\n",
       " 6: 1466.36,\n",
       " 7: 1881.31,\n",
       " 8: 1255.48,\n",
       " 9: 635.62}"
      ]
     },
     "execution_count": 79,
     "metadata": {},
     "output_type": "execute_result"
    }
   ],
   "source": [
    "zl_dict"
   ]
  },
  {
   "cell_type": "markdown",
   "id": "cd3151d5",
   "metadata": {},
   "source": [
    "### 3. Determine the additional flux functions"
   ]
  },
  {
   "cell_type": "code",
   "execution_count": 80,
   "id": "79405179",
   "metadata": {},
   "outputs": [],
   "source": [
    "# total lumens\n",
    "total_flux = np.round(df['zonal_lumen'].sum(),2)\n",
    "flux = zl['zonal_lumen'].sum()\n",
    "\n",
    "# lumen downwards, zone number 1 to 9\n",
    "flux_down = zl['zonal_lumen'][0:9].sum()\n",
    "\n",
    "# proportion of lumens in a downward direction\n",
    "percent_down = flux_down/flux\n",
    "\n",
    "# proportion of lumens in a upward direction\n",
    "percent_up = 1 - percent_down"
   ]
  },
  {
   "cell_type": "code",
   "execution_count": 81,
   "id": "f7ec23ab",
   "metadata": {},
   "outputs": [
    {
     "name": "stdout",
     "output_type": "stream",
     "text": [
      "9217.170000000002 6993.45 0.7587415660121272 0.24125843398787283\n"
     ]
    }
   ],
   "source": [
    "print(flux, flux_down,percent_down, percent_up)"
   ]
  },
  {
   "cell_type": "markdown",
   "id": "85667170",
   "metadata": {},
   "source": [
    "### 4. Determine the direct ratio"
   ]
  },
  {
   "cell_type": "markdown",
   "id": "2a21d27c",
   "metadata": {},
   "source": [
    "* Direct Ratio ($\\begin{aligned}D_{RCR}\\end{aligned}$) is the fraction of the downward luminaire flux that reaches the work plain directly.  \n",
    "* $\\begin{aligned}K_{RCR, N}\\end{aligned}$ is called a zonal multiplier and is a function of both cavity ratio, denoted by RCR and zone N.\n",
    "* RCR is the room cavity ratio; between 1 and 10, inclusive. \n",
    "* RCR =0 is a special case, we will revisit this case later.\n",
    "\n",
    "$$\n",
    "  D_{RCR} = \\frac{1}{\\Phi_{down} }\\sum_{n=1}^9 {k_{RCR, N}}{\\Phi_N}\n",
    "$$\n",
    "\n",
    "$$\n",
    "  K_{RCR,N} = e^{-A * {RCR^B}} \n",
    "$$\n",
    "\n",
    "where A and B are constants for each flux zone"
   ]
  },
  {
   "cell_type": "markdown",
   "id": "2d673c18",
   "metadata": {},
   "source": [
    "<img src=\"img/4_1.png\" width=\"300\">"
   ]
  },
  {
   "cell_type": "code",
   "execution_count": 82,
   "id": "80cc8773",
   "metadata": {},
   "outputs": [
    {
     "data": {
      "text/plain": [
       "{1: (0, 0),\n",
       " 2: (0.041, 0.98),\n",
       " 3: (0.07, 1.05),\n",
       " 4: (0.1, 1.12),\n",
       " 5: (0.136, 1.16),\n",
       " 6: (0.19, 1.25),\n",
       " 7: (0.315, 1.25),\n",
       " 8: (0.64, 1.25),\n",
       " 9: (2.1, 0.8)}"
      ]
     },
     "metadata": {},
     "output_type": "display_data"
    }
   ],
   "source": [
    "# dict for zonal multiplier\n",
    "\n",
    "a = [0, 0.041, 0.070, 0.1, 0.136, 0.19,0.315, 0.64, 2.1]\n",
    "b = [0, 0.98, 1.05, 1.12, 1.16, 1.25, 1.25, 1.25, 0.8]\n",
    "zone = np.arange(1,10)\n",
    "\n",
    "zonal_mul_constant = dict(zip(zone, zip(a, b)))\n",
    "\n",
    "display(zonal_mul_constant)"
   ]
  },
  {
   "cell_type": "code",
   "execution_count": 83,
   "id": "3e5e4f84",
   "metadata": {},
   "outputs": [],
   "source": [
    "# calculate direct ratio for each RCR value (1 to 10)\n",
    "\n",
    "direct_ratio = {}\n",
    "\n",
    "for rcr in range(1,11):\n",
    "    flux_sum = 0 \n",
    "    for zone in range(1,10):\n",
    "        flux_sum += np.exp(-1 * zonal_mul_constant[zone][0] * np.power(rcr, zonal_mul_constant[zone][1]))*zl_dict[zone]\n",
    "    direct_ratio[rcr] = np.round(flux_sum/flux_down,3)\n",
    "        "
   ]
  },
  {
   "cell_type": "code",
   "execution_count": 84,
   "id": "df26fc9e",
   "metadata": {},
   "outputs": [
    {
     "data": {
      "text/plain": [
       "{1: 0.701,\n",
       " 2: 0.502,\n",
       " 3: 0.367,\n",
       " 4: 0.275,\n",
       " 5: 0.212,\n",
       " 6: 0.167,\n",
       " 7: 0.135,\n",
       " 8: 0.111,\n",
       " 9: 0.093,\n",
       " 10: 0.079}"
      ]
     },
     "execution_count": 84,
     "metadata": {},
     "output_type": "execute_result"
    }
   ],
   "source": [
    "direct_ratio"
   ]
  },
  {
   "cell_type": "markdown",
   "id": "c8b8e28a",
   "metadata": {},
   "source": [
    "### 5. Determin parameters $\\begin{aligned}C_1, C_2, C_3, C_0 \\end{aligned}$"
   ]
  },
  {
   "cell_type": "markdown",
   "id": "d6e5d5ba",
   "metadata": {},
   "source": [
    "$$\n",
    "  C_1 = \\frac{(1 - {\\rho_W})(1-f^2_{CC{\\rightarrow}FC})RCR}{2.5{\\rho_W}(1-f^2_{CC{\\rightarrow}FC}) + RCR {\\bullet}f_ {CC{\\rightarrow}FC}(1-{\\rho_W})}\n",
    "$$\n",
    "\n",
    "$$\n",
    "  C_2 = \\frac{(1 - {\\rho_{CC}})(1+f_{CC{\\rightarrow}FC})}{1 + {\\rho_{CC}} f_{CC{\\rightarrow}FC}}\n",
    "$$\n",
    "\n",
    "$$\n",
    "  C_3 = \\frac{(1 - {\\rho_{FC}})(1+f_{CC{\\rightarrow}FC})}{1 + {\\rho_{FC}} f_{CC{\\rightarrow}FC}}\n",
    "$$\n",
    "\n",
    "$$\n",
    "  C_0 = C_1 + C_2 + C_3\n",
    "$$\n",
    "\n",
    "* $\\begin{aligned}{\\rho_{CC}}\\end{aligned}$ is the ceiling cavity reflectance  \n",
    "* $\\begin{aligned}{\\rho_{W}}\\end{aligned}$ is the wall reflectance\n",
    "* $\\begin{aligned}{\\rho_{FC}}\\end{aligned}$ is the floor cavity reflectance, which is taken as 0.2 for standard CU tables\n",
    "* $\\begin{aligned}{f_{CC{\\rightarrow}FC}}\\end{aligned}$ is the form factor from the ceiling cavity to the floor cativity, shown in the table below\n"
   ]
  },
  {
   "cell_type": "markdown",
   "id": "0af39124",
   "metadata": {},
   "source": [
    "<img src=\"img/5_1.png\" width=\"400\">"
   ]
  },
  {
   "cell_type": "code",
   "execution_count": 85,
   "id": "b086eb0f",
   "metadata": {},
   "outputs": [
    {
     "data": {
      "text/plain": [
       "{1: 0.827,\n",
       " 2: 0.689,\n",
       " 3: 0.579,\n",
       " 4: 0.489,\n",
       " 5: 0.415,\n",
       " 6: 0.355,\n",
       " 7: 0.306,\n",
       " 8: 0.265,\n",
       " 9: 0.231,\n",
       " 10: 0.202}"
      ]
     },
     "execution_count": 85,
     "metadata": {},
     "output_type": "execute_result"
    }
   ],
   "source": [
    "# form factor for RCR 1 to 10\n",
    "form_factor_value = [0.827, 0.689, 0.579, 0.489, 0.415, 0.355, 0.306, 0.265, 0.231, 0.202]\n",
    "\n",
    "form_factor = dict(zip(np.arange(1,11), form_factor_value))\n",
    "\n",
    "form_factor"
   ]
  },
  {
   "cell_type": "markdown",
   "id": "90301c0a",
   "metadata": {},
   "source": [
    "### 6. Determine the CU for each combination of reflectance and RCR\n"
   ]
  },
  {
   "cell_type": "markdown",
   "id": "e6574e14",
   "metadata": {},
   "source": [
    "<img src=\"img/6_1.png\" width=\"600\">"
   ]
  },
  {
   "cell_type": "markdown",
   "id": "0802a4a4",
   "metadata": {},
   "source": [
    "#### This is a sample CU table generated by Photometric Toolbox\n",
    "* $\\begin{aligned}{\\rho_{CC}}\\end{aligned}$ value: 0.8/0.7/0.5/0.3/0.1/0\n",
    "* $\\begin{aligned}{\\rho_{w}}\\end{aligned}$ value: 0.7/0.5/0.3/0.1/0\n",
    "* $\\begin{aligned}{\\rho_{FC}}\\end{aligned}$ value: 0.2"
   ]
  },
  {
   "cell_type": "code",
   "execution_count": 86,
   "id": "33be598b",
   "metadata": {},
   "outputs": [],
   "source": [
    "reflectance_pair_cw = [[0.8,0.7], [0.8,0.5], [0.8,0.3], [0.8,0.1], [0.7, 0.7], [0.7,0.5], [0.7,0.3], [0.7,0.1], [0.5,0.5], [0.5,0.3], [0.5,0.1], [0.3,0.5], [0.3,0.3], [0.3,0.1],[0.1,0.5], [0.1,0.3],[0.1,0.1],[0,0]]"
   ]
  },
  {
   "cell_type": "markdown",
   "id": "5fe832d0",
   "metadata": {},
   "source": [
    "#### 6.1 CU for RCR 1 to 10"
   ]
  },
  {
   "cell_type": "code",
   "execution_count": 87,
   "id": "8f2a0bca",
   "metadata": {},
   "outputs": [],
   "source": [
    "cu = {}\n",
    "for rcr in range(1,11):\n",
    "    for r in reflectance_pair_cw:\n",
    "        c1 = (1 - r[1])*(1 - np.power(form_factor[rcr], 2))*rcr/(2.5*r[1]*(1 - np.power(form_factor[rcr], 2)) + rcr*form_factor[rcr]*(1 - r[1]))\n",
    "        c2 = (1 - r[0])*(1 + form_factor[rcr])/(1 + r[0]*form_factor[rcr])\n",
    "        c3 = (1 - 0.2)*(1 + form_factor[rcr])/(1+0.2*form_factor[rcr])\n",
    "        c0 = c1 + c2 + c3\n",
    "        cu1 = 2.5*r[1]*c1*c3*(1 - direct_ratio[rcr])*percent_down/(rcr*(1 - r[1])*(1 - 0.2)*c0)\n",
    "        cu2 = r[0]*c2*c3*percent_up/((1 - r[0])*(1 - 0.2)*c0)\n",
    "        cu3 = (1 - 0.2*c3*(c1 + c2)/((1 - 0.2)*c0))*(direct_ratio[rcr]*percent_down/(1 - 0.2))\n",
    "        cu[(rcr,r[0], r[1])] = np.round((cu1 + cu2 + cu3)*100,0)\n",
    "        "
   ]
  },
  {
   "cell_type": "markdown",
   "id": "fa9f43b1",
   "metadata": {},
   "source": [
    "#### 6.2 CU for RCR = 0"
   ]
  },
  {
   "cell_type": "code",
   "execution_count": 88,
   "id": "3c8be48a",
   "metadata": {},
   "outputs": [],
   "source": [
    "for r in reflectance_pair_cw:\n",
    "    cu[(0,r[0], r[1])] = np.round((percent_down + r[0]*percent_up)/(1 - r[0]*0.2)*100, 0)"
   ]
  },
  {
   "cell_type": "code",
   "execution_count": 89,
   "id": "a0c9d792",
   "metadata": {},
   "outputs": [
    {
     "data": {
      "text/plain": [
       "{(1, 0.8, 0.7): 98.0,\n",
       " (1, 0.8, 0.5): 92.0,\n",
       " (1, 0.8, 0.3): 86.0,\n",
       " (1, 0.8, 0.1): 80.0,\n",
       " (1, 0.7, 0.7): 93.0,\n",
       " (1, 0.7, 0.5): 87.0,\n",
       " (1, 0.7, 0.3): 81.0,\n",
       " (1, 0.7, 0.1): 77.0,\n",
       " (1, 0.5, 0.5): 78.0,\n",
       " (1, 0.5, 0.3): 74.0,\n",
       " (1, 0.5, 0.1): 70.0,\n",
       " (1, 0.3, 0.5): 70.0,\n",
       " (1, 0.3, 0.3): 66.0,\n",
       " (1, 0.3, 0.1): 63.0,\n",
       " (1, 0.1, 0.5): 62.0,\n",
       " (1, 0.1, 0.3): 60.0,\n",
       " (1, 0.1, 0.1): 57.0,\n",
       " (1, 0, 0): 53.0,\n",
       " (2, 0.8, 0.7): 86.0,\n",
       " (2, 0.8, 0.5): 75.0,\n",
       " (2, 0.8, 0.3): 66.0,\n",
       " (2, 0.8, 0.1): 59.0,\n",
       " (2, 0.7, 0.7): 81.0,\n",
       " (2, 0.7, 0.5): 71.0,\n",
       " (2, 0.7, 0.3): 63.0,\n",
       " (2, 0.7, 0.1): 56.0,\n",
       " (2, 0.5, 0.5): 64.0,\n",
       " (2, 0.5, 0.3): 57.0,\n",
       " (2, 0.5, 0.1): 51.0,\n",
       " (2, 0.3, 0.5): 57.0,\n",
       " (2, 0.3, 0.3): 51.0,\n",
       " (2, 0.3, 0.1): 46.0,\n",
       " (2, 0.1, 0.5): 50.0,\n",
       " (2, 0.1, 0.3): 46.0,\n",
       " (2, 0.1, 0.1): 42.0,\n",
       " (2, 0, 0): 38.0,\n",
       " (3, 0.8, 0.7): 76.0,\n",
       " (3, 0.8, 0.5): 63.0,\n",
       " (3, 0.8, 0.3): 53.0,\n",
       " (3, 0.8, 0.1): 45.0,\n",
       " (3, 0.7, 0.7): 72.0,\n",
       " (3, 0.7, 0.5): 60.0,\n",
       " (3, 0.7, 0.3): 50.0,\n",
       " (3, 0.7, 0.1): 43.0,\n",
       " (3, 0.5, 0.5): 53.0,\n",
       " (3, 0.5, 0.3): 45.0,\n",
       " (3, 0.5, 0.1): 39.0,\n",
       " (3, 0.3, 0.5): 47.0,\n",
       " (3, 0.3, 0.3): 40.0,\n",
       " (3, 0.3, 0.1): 35.0,\n",
       " (3, 0.1, 0.5): 41.0,\n",
       " (3, 0.1, 0.3): 36.0,\n",
       " (3, 0.1, 0.1): 31.0,\n",
       " (3, 0, 0): 28.0,\n",
       " (4, 0.8, 0.7): 68.0,\n",
       " (4, 0.8, 0.5): 54.0,\n",
       " (4, 0.8, 0.3): 43.0,\n",
       " (4, 0.8, 0.1): 35.0,\n",
       " (4, 0.7, 0.7): 64.0,\n",
       " (4, 0.7, 0.5): 51.0,\n",
       " (4, 0.7, 0.3): 41.0,\n",
       " (4, 0.7, 0.1): 33.0,\n",
       " (4, 0.5, 0.5): 45.0,\n",
       " (4, 0.5, 0.3): 37.0,\n",
       " (4, 0.5, 0.1): 30.0,\n",
       " (4, 0.3, 0.5): 40.0,\n",
       " (4, 0.3, 0.3): 33.0,\n",
       " (4, 0.3, 0.1): 27.0,\n",
       " (4, 0.1, 0.5): 35.0,\n",
       " (4, 0.1, 0.3): 29.0,\n",
       " (4, 0.1, 0.1): 24.0,\n",
       " (4, 0, 0): 21.0,\n",
       " (5, 0.8, 0.7): 62.0,\n",
       " (5, 0.8, 0.5): 46.0,\n",
       " (5, 0.8, 0.3): 36.0,\n",
       " (5, 0.8, 0.1): 28.0,\n",
       " (5, 0.7, 0.7): 58.0,\n",
       " (5, 0.7, 0.5): 44.0,\n",
       " (5, 0.7, 0.3): 34.0,\n",
       " (5, 0.7, 0.1): 27.0,\n",
       " (5, 0.5, 0.5): 39.0,\n",
       " (5, 0.5, 0.3): 30.0,\n",
       " (5, 0.5, 0.1): 24.0,\n",
       " (5, 0.3, 0.5): 34.0,\n",
       " (5, 0.3, 0.3): 27.0,\n",
       " (5, 0.3, 0.1): 22.0,\n",
       " (5, 0.1, 0.5): 30.0,\n",
       " (5, 0.1, 0.3): 24.0,\n",
       " (5, 0.1, 0.1): 19.0,\n",
       " (5, 0, 0): 16.0,\n",
       " (6, 0.8, 0.7): 56.0,\n",
       " (6, 0.8, 0.5): 41.0,\n",
       " (6, 0.8, 0.3): 30.0,\n",
       " (6, 0.8, 0.1): 23.0,\n",
       " (6, 0.7, 0.7): 52.0,\n",
       " (6, 0.7, 0.5): 38.0,\n",
       " (6, 0.7, 0.3): 29.0,\n",
       " (6, 0.7, 0.1): 22.0,\n",
       " (6, 0.5, 0.5): 34.0,\n",
       " (6, 0.5, 0.3): 26.0,\n",
       " (6, 0.5, 0.1): 20.0,\n",
       " (6, 0.3, 0.5): 30.0,\n",
       " (6, 0.3, 0.3): 23.0,\n",
       " (6, 0.3, 0.1): 18.0,\n",
       " (6, 0.1, 0.5): 26.0,\n",
       " (6, 0.1, 0.3): 20.0,\n",
       " (6, 0.1, 0.1): 16.0,\n",
       " (6, 0, 0): 13.0,\n",
       " (7, 0.8, 0.7): 51.0,\n",
       " (7, 0.8, 0.5): 36.0,\n",
       " (7, 0.8, 0.3): 26.0,\n",
       " (7, 0.8, 0.1): 19.0,\n",
       " (7, 0.7, 0.7): 48.0,\n",
       " (7, 0.7, 0.5): 34.0,\n",
       " (7, 0.7, 0.3): 25.0,\n",
       " (7, 0.7, 0.1): 18.0,\n",
       " (7, 0.5, 0.5): 30.0,\n",
       " (7, 0.5, 0.3): 22.0,\n",
       " (7, 0.5, 0.1): 16.0,\n",
       " (7, 0.3, 0.5): 27.0,\n",
       " (7, 0.3, 0.3): 20.0,\n",
       " (7, 0.3, 0.1): 15.0,\n",
       " (7, 0.1, 0.5): 23.0,\n",
       " (7, 0.1, 0.3): 17.0,\n",
       " (7, 0.1, 0.1): 13.0,\n",
       " (7, 0, 0): 10.0,\n",
       " (8, 0.8, 0.7): 47.0,\n",
       " (8, 0.8, 0.5): 32.0,\n",
       " (8, 0.8, 0.3): 23.0,\n",
       " (8, 0.8, 0.1): 16.0,\n",
       " (8, 0.7, 0.7): 44.0,\n",
       " (8, 0.7, 0.5): 30.0,\n",
       " (8, 0.7, 0.3): 22.0,\n",
       " (8, 0.7, 0.1): 15.0,\n",
       " (8, 0.5, 0.5): 27.0,\n",
       " (8, 0.5, 0.3): 19.0,\n",
       " (8, 0.5, 0.1): 14.0,\n",
       " (8, 0.3, 0.5): 24.0,\n",
       " (8, 0.3, 0.3): 17.0,\n",
       " (8, 0.3, 0.1): 12.0,\n",
       " (8, 0.1, 0.5): 21.0,\n",
       " (8, 0.1, 0.3): 15.0,\n",
       " (8, 0.1, 0.1): 11.0,\n",
       " (8, 0, 0): 8.0,\n",
       " (9, 0.8, 0.7): 44.0,\n",
       " (9, 0.8, 0.5): 29.0,\n",
       " (9, 0.8, 0.3): 20.0,\n",
       " (9, 0.8, 0.1): 14.0,\n",
       " (9, 0.7, 0.7): 41.0,\n",
       " (9, 0.7, 0.5): 28.0,\n",
       " (9, 0.7, 0.3): 19.0,\n",
       " (9, 0.7, 0.1): 13.0,\n",
       " (9, 0.5, 0.5): 25.0,\n",
       " (9, 0.5, 0.3): 17.0,\n",
       " (9, 0.5, 0.1): 12.0,\n",
       " (9, 0.3, 0.5): 22.0,\n",
       " (9, 0.3, 0.3): 15.0,\n",
       " (9, 0.3, 0.1): 11.0,\n",
       " (9, 0.1, 0.5): 19.0,\n",
       " (9, 0.1, 0.3): 13.0,\n",
       " (9, 0.1, 0.1): 9.0,\n",
       " (9, 0, 0): 7.0,\n",
       " (10, 0.8, 0.7): 41.0,\n",
       " (10, 0.8, 0.5): 27.0,\n",
       " (10, 0.8, 0.3): 18.0,\n",
       " (10, 0.8, 0.1): 12.0,\n",
       " (10, 0.7, 0.7): 38.0,\n",
       " (10, 0.7, 0.5): 25.0,\n",
       " (10, 0.7, 0.3): 17.0,\n",
       " (10, 0.7, 0.1): 12.0,\n",
       " (10, 0.5, 0.5): 22.0,\n",
       " (10, 0.5, 0.3): 15.0,\n",
       " (10, 0.5, 0.1): 10.0,\n",
       " (10, 0.3, 0.5): 20.0,\n",
       " (10, 0.3, 0.3): 14.0,\n",
       " (10, 0.3, 0.1): 9.0,\n",
       " (10, 0.1, 0.5): 17.0,\n",
       " (10, 0.1, 0.3): 12.0,\n",
       " (10, 0.1, 0.1): 8.0,\n",
       " (10, 0, 0): 6.0,\n",
       " (0, 0.8, 0.7): 113.0,\n",
       " (0, 0.8, 0.5): 113.0,\n",
       " (0, 0.8, 0.3): 113.0,\n",
       " (0, 0.8, 0.1): 113.0,\n",
       " (0, 0.7, 0.7): 108.0,\n",
       " (0, 0.7, 0.5): 108.0,\n",
       " (0, 0.7, 0.3): 108.0,\n",
       " (0, 0.7, 0.1): 108.0,\n",
       " (0, 0.5, 0.5): 98.0,\n",
       " (0, 0.5, 0.3): 98.0,\n",
       " (0, 0.5, 0.1): 98.0,\n",
       " (0, 0.3, 0.5): 88.0,\n",
       " (0, 0.3, 0.3): 88.0,\n",
       " (0, 0.3, 0.1): 88.0,\n",
       " (0, 0.1, 0.5): 80.0,\n",
       " (0, 0.1, 0.3): 80.0,\n",
       " (0, 0.1, 0.1): 80.0,\n",
       " (0, 0, 0): 76.0}"
      ]
     },
     "execution_count": 89,
     "metadata": {},
     "output_type": "execute_result"
    }
   ],
   "source": [
    "cu"
   ]
  },
  {
   "cell_type": "markdown",
   "id": "f198a5b0",
   "metadata": {},
   "source": [
    "#### CU dictionary key:  (RCR, ceiling cavity reflectance, wall reflectance)"
   ]
  },
  {
   "cell_type": "markdown",
   "id": "ad276348",
   "metadata": {},
   "source": [
    "### 7. Spacing Criteria"
   ]
  },
  {
   "cell_type": "markdown",
   "id": "7c7aa190",
   "metadata": {},
   "source": [
    "Consider three planes of data:   \n",
    "$\\begin{aligned}{\\psi}=0° (0°-180°),  {\\psi}=90° (90°-270°), {\\psi}=45° (diagonal) \\end{aligned}$ \n",
    "\n",
    "$\\begin{aligned}{\\psi}\\end{aligned}$ = angle of azimuthal plane used to determine the criterion  \n",
    "$\\begin{aligned}{\\theta}\\end{aligned}$ = the elevation angle    \n",
    "\n",
    "The elevation angle θ for 2 luminiares is found that gives intensities that satisfy  \n",
    "$\\begin{aligned}I({\\theta},{\\psi}) = \\frac{I(0,{\\psi})}{2cos^3{\\theta}}\\end{aligned}$  \n",
    "\n",
    "The spacing criteria for 2 luminaires is   \n",
    "$\\begin{aligned} SC_2 = 2 * tan{\\theta}_2 \\end{aligned}$  \n",
    "\n",
    "The elevation angle θ for 4 luminiares is found that gives intensities that satisfy  \n",
    "$\\begin{aligned}I({\\theta},{\\psi}) = \\frac{I(0,{\\psi})}{4cos^3{\\theta}}\\end{aligned}$    \n",
    "where $\\begin{aligned}{\\psi}\\end{aligned}$ = 45°   \n",
    "\n",
    "The spacing criteria for 4 luminaires is   \n",
    "$\\begin{aligned} SC_4 = 2 * tan{\\theta}_4 \\end{aligned}$     \n",
    "\n",
    "\n",
    "The spacing criterion for the luminaire is the smaller of $\\begin{aligned} SC_2 \\end{aligned}$ and $\\begin{aligned} SC_4 \\end{aligned}$\n"
   ]
  },
  {
   "cell_type": "markdown",
   "id": "761b8f3c",
   "metadata": {},
   "source": [
    "#### Only take candela distribution for the lower hemisphere for sc calculation, h_ang <90°"
   ]
  },
  {
   "cell_type": "code",
   "execution_count": 90,
   "id": "9a4dd9e0",
   "metadata": {},
   "outputs": [],
   "source": [
    "v_index_sc, = np.where(ies['v_angs'] < 90)\n",
    "x = ies['v_angs'][v_index_sc]\n",
    "\n",
    "cd_sc=cd_inter[v_index_sc]"
   ]
  },
  {
   "cell_type": "code",
   "execution_count": 91,
   "id": "7581a655",
   "metadata": {},
   "outputs": [],
   "source": [
    "def prep(psi, cd, v_angs, r):\n",
    "    # psi is the angle of azimuthal plane used to determine the criterion, can be 0°, 45° and 90°\n",
    "    # r=2 for 0-180/90-270, r=4 for diagonal\n",
    "    \n",
    "    h_index, = np.where(h_angs_inter ==psi)\n",
    "    v_index, = np.where(v_angs ==0)\n",
    "    \n",
    "    # candela value at h_angle psi, v_angle 0°\n",
    "    cd_psi_0 = cd[v_index[0], h_index[0]]\n",
    "    # fetch candela array where h_angle = 0°\n",
    "    y1 = cd.T[h_index[0]]\n",
    "\n",
    "    # I(0,psi)/(r*cosθ^3)\n",
    "    y2 = cd_psi_0/(r*np.power(np.cos(v_angs*np.pi/180),3))\n",
    "    \n",
    "    return y1, y2"
   ]
  },
  {
   "cell_type": "markdown",
   "id": "35815dd1",
   "metadata": {},
   "source": [
    "https://stackoverflow.com/questions/42464334/find-the-intersection-of-two-curves-given-by-x-y-data-with-high-precision-in"
   ]
  },
  {
   "cell_type": "code",
   "execution_count": 92,
   "id": "d25b8e9b",
   "metadata": {},
   "outputs": [],
   "source": [
    "def interpolated_intercept(x, y1, y2):\n",
    "    \"\"\"Find the intercept of two curves, given by the same x data\"\"\"\n",
    "\n",
    "    def intercept(point1, point2, point3, point4):\n",
    "        \"\"\"find the intersection between two lines\n",
    "        the first line is defined by the line between point1 and point2\n",
    "        the second line is defined by the line between point3 and point4\n",
    "        each point is an (x,y) tuple.\n",
    "\n",
    "        So, for example, you can find the intersection between\n",
    "        intercept((0,0), (1,1), (0,1), (1,0)) = (0.5, 0.5)\n",
    "\n",
    "        Returns: the intercept, in (x,y) format\n",
    "        \"\"\"    \n",
    "\n",
    "        def line(p1, p2):\n",
    "            A = (p1[1] - p2[1])\n",
    "            B = (p2[0] - p1[0])\n",
    "            C = (p1[0]*p2[1] - p2[0]*p1[1])\n",
    "            return A, B, -C\n",
    "\n",
    "        def intersection(L1, L2):\n",
    "            D  = L1[0] * L2[1] - L1[1] * L2[0]\n",
    "            Dx = L1[2] * L2[1] - L1[1] * L2[2]\n",
    "            Dy = L1[0] * L2[2] - L1[2] * L2[0]\n",
    "\n",
    "            x = Dx / D\n",
    "            y = Dy / D\n",
    "            return x,y\n",
    "\n",
    "        L1 = line([point1[0],point1[1]], [point2[0],point2[1]])\n",
    "        L2 = line([point3[0],point3[1]], [point4[0],point4[1]])\n",
    "\n",
    "        R = intersection(L1, L2)\n",
    "\n",
    "        return R\n",
    "\n",
    "    idx = np.argwhere(np.diff(np.sign(y1 - y2)) != 0)\n",
    "    xc, yc = intercept((x[idx], y1[idx]),((x[idx+1], y1[idx+1])), ((x[idx], y2[idx])), ((x[idx+1], y2[idx+1])))\n",
    "    return xc,yc"
   ]
  },
  {
   "cell_type": "code",
   "execution_count": 93,
   "id": "0f162e9d",
   "metadata": {},
   "outputs": [],
   "source": [
    "def plot_intersection(x, y1, y2, xc, yc):\n",
    "    fig = plt.gcf()\n",
    "    fig.set_size_inches(10, 8)\n",
    "\n",
    "    plt.plot(x, y1,label='y1')\n",
    "    plt.plot(x, y2, label='y2')\n",
    "    plt.plot(xc, yc, marker='o', label='intersection point')\n",
    "    plt.yscale('log')\n",
    "    plt.legend(frameon=False, fontsize=10, numpoints=1, loc='upper left')\n",
    "    plt.xlabel ('Vertical angle, θ')\n",
    "    plt.show()   "
   ]
  },
  {
   "cell_type": "markdown",
   "id": "a6025d4a",
   "metadata": {},
   "source": [
    "#### 7.1 Spacing Criterion (0-180)"
   ]
  },
  {
   "cell_type": "code",
   "execution_count": 94,
   "id": "526dcb54",
   "metadata": {},
   "outputs": [],
   "source": [
    "y1, y2 = prep(0, cd_sc, x,2)\n",
    "xc, yc = interpolated_intercept(x, y1,y2)"
   ]
  },
  {
   "cell_type": "code",
   "execution_count": 95,
   "id": "ac34c7d3",
   "metadata": {},
   "outputs": [
    {
     "data": {
      "image/png": "[encoded data removed]",
      "text/plain": [
       "<Figure size 720x576 with 1 Axes>"
      ]
     },
     "metadata": {
      "needs_background": "light"
     },
     "output_type": "display_data"
    }
   ],
   "source": [
    "plot_intersection(x,y1,y2, xc, yc)"
   ]
  },
  {
   "cell_type": "code",
   "execution_count": 96,
   "id": "36cb0da1",
   "metadata": {},
   "outputs": [
    {
     "data": {
      "text/plain": [
       "3.74"
      ]
     },
     "execution_count": 96,
     "metadata": {},
     "output_type": "execute_result"
    }
   ],
   "source": [
    "SC_0_180 = np.round(np.tan(xc*np.pi/180)[0][0],2)*2\n",
    "SC_0_180"
   ]
  },
  {
   "cell_type": "markdown",
   "id": "39727f8b",
   "metadata": {},
   "source": [
    "#### 7.2 Spacing Criterion (90-270)"
   ]
  },
  {
   "cell_type": "code",
   "execution_count": 97,
   "id": "71073496",
   "metadata": {},
   "outputs": [],
   "source": [
    "y1, y2 = prep(90, cd_sc, x,2)\n",
    "xc, yc = interpolated_intercept(x, y1, y2)"
   ]
  },
  {
   "cell_type": "code",
   "execution_count": 98,
   "id": "dade2d47",
   "metadata": {},
   "outputs": [
    {
     "data": {
      "image/png": "[encoded data removed]",
      "text/plain": [
       "<Figure size 720x576 with 1 Axes>"
      ]
     },
     "metadata": {
      "needs_background": "light"
     },
     "output_type": "display_data"
    }
   ],
   "source": [
    "plot_intersection(x, y1, y2, xc, yc)"
   ]
  },
  {
   "cell_type": "code",
   "execution_count": 99,
   "id": "f888093b",
   "metadata": {},
   "outputs": [
    {
     "data": {
      "text/plain": [
       "3.74"
      ]
     },
     "execution_count": 99,
     "metadata": {},
     "output_type": "execute_result"
    }
   ],
   "source": [
    "SC_90_270 = np.round(np.tan(xc*np.pi/180)[0][0],2)*2\n",
    "SC_90_270"
   ]
  },
  {
   "cell_type": "markdown",
   "id": "ab522412",
   "metadata": {},
   "source": [
    "#### 7.3 Spacing Criterion (diagonal)"
   ]
  },
  {
   "cell_type": "code",
   "execution_count": 100,
   "id": "b1cb6cbe",
   "metadata": {},
   "outputs": [],
   "source": [
    "# y1, y2 = prep(45, cd_sc, x,4)\n",
    "# xc, yc = interpolated_intercept(x, y1, y2)\n",
    "# plot_intersection(x, y1, y2, xc, yc)"
   ]
  },
  {
   "cell_type": "code",
   "execution_count": 101,
   "id": "9b806493",
   "metadata": {},
   "outputs": [],
   "source": [
    "# SC_diagonal = np.round(np.tan(xc*np.pi/180)[0][0]*2*np.sin(45*np.pi/180),2)\n",
    "# SC_diagonal"
   ]
  },
  {
   "cell_type": "code",
   "execution_count": null,
   "id": "9e13f160",
   "metadata": {},
   "outputs": [],
   "source": []
  },
  {
   "cell_type": "code",
   "execution_count": 102,
   "id": "7a19fcca",
   "metadata": {},
   "outputs": [
    {
     "name": "stdout",
     "output_type": "stream",
     "text": [
      "Spacing Criterion (0-180): 3.74\n",
      "Spacing Criterion (90-270): 3.74\n"
     ]
    }
   ],
   "source": [
    "print(f'Spacing Criterion (0-180): {SC_0_180}')\n",
    "print(f'Spacing Criterion (90-270): {SC_90_270}')"
   ]
  },
  {
   "cell_type": "code",
   "execution_count": null,
   "id": "d00950d7",
   "metadata": {},
   "outputs": [],
   "source": []
  }
 ],
 "metadata": {
  "kernelspec": {
   "display_name": "Python 3 (ipykernel)",
   "language": "python",
   "name": "python3"
  },
  "language_info": {
   "codemirror_mode": {
    "name": "ipython",
    "version": 3
   },
   "file_extension": ".py",
   "mimetype": "text/x-python",
   "name": "python",
   "nbconvert_exporter": "python",
   "pygments_lexer": "ipython3",
   "version": "3.9.7"
  }
 },
 "nbformat": 4,
 "nbformat_minor": 5
}
